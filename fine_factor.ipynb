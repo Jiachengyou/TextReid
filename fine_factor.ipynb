{
 "cells": [
  {
   "cell_type": "code",
   "execution_count": 4,
   "metadata": {},
   "outputs": [],
   "source": [
    "def rank(similarity, q_pids, g_pids, topk=[1, 5, 10], get_mAP=True):\n",
    "    max_rank = max(topk)\n",
    "    if get_mAP:\n",
    "        indices = torch.argsort(similarity, dim=1, descending=True)\n",
    "    else:\n",
    "        # acclerate sort with topk\n",
    "        _, indices = torch.topk(\n",
    "            similarity, k=max_rank, dim=1, largest=True, sorted=True\n",
    "        )  # q * topk\n",
    "    pred_labels = g_pids[indices]  # q * k\n",
    "    matches = pred_labels.eq(q_pids.view(-1, 1))  # q * k\n",
    "\n",
    "    all_cmc = matches[:, :max_rank].cumsum(1)\n",
    "    all_cmc[all_cmc > 1] = 1\n",
    "    all_cmc = all_cmc.float().mean(0) * 100\n",
    "    all_cmc = all_cmc[topk - 1]\n",
    "\n",
    "    if not get_mAP:\n",
    "        return all_cmc, indices\n",
    "\n",
    "    num_rel = matches.sum(1)  # q\n",
    "    tmp_cmc = matches.cumsum(1)  # q * k\n",
    "    tmp_cmc = [tmp_cmc[:, i] / (i + 1.0) for i in range(tmp_cmc.shape[1])]\n",
    "    tmp_cmc = torch.stack(tmp_cmc, 1) * matches\n",
    "    AP = tmp_cmc.sum(1) / num_rel  # q\n",
    "    mAP = AP.mean() * 100\n",
    "    return all_cmc, mAP, indices"
   ]
  },
  {
   "cell_type": "code",
   "execution_count": 5,
   "metadata": {},
   "outputs": [],
   "source": [
    "import pickle as pkl\n",
    "import numpy as np\n",
    "import torch\n",
    "topk = torch.tensor([1,5,10])"
   ]
  },
  {
   "cell_type": "code",
   "execution_count": 6,
   "metadata": {},
   "outputs": [],
   "source": [
    "similarity = np.load(\"similarity.npy\")\n",
    "similarity_fine = np.load(\"similarity_fine.npy\")\n",
    "text_pid = np.load(\"text_pid.npy\")\n",
    "image_pid = np.load(\"image_pid.npy\")"
   ]
  },
  {
   "cell_type": "code",
   "execution_count": 13,
   "metadata": {},
   "outputs": [],
   "source": [
    "final_similarity = similarity + similarity_fine"
   ]
  },
  {
   "cell_type": "code",
   "execution_count": 14,
   "metadata": {},
   "outputs": [
    {
     "name": "stdout",
     "output_type": "stream",
     "text": [
      "tensor([60.7537, 79.4184, 86.6309])\n"
     ]
    }
   ],
   "source": [
    "t2i_cmc, _ = rank(torch.tensor(final_similarity), torch.tensor(text_pid), torch.tensor(image_pid), topk, get_mAP=False)\n",
    "print(t2i_cmc)"
   ]
  },
  {
   "cell_type": "code",
   "execution_count": 9,
   "metadata": {},
   "outputs": [
    {
     "data": {
      "text/plain": [
       "[0.0,\n",
       " 0.1,\n",
       " 0.2,\n",
       " 0.3,\n",
       " 0.4,\n",
       " 0.5,\n",
       " 0.6,\n",
       " 0.7,\n",
       " 0.8,\n",
       " 0.9,\n",
       " 1.0,\n",
       " 1.1,\n",
       " 1.2,\n",
       " 1.3,\n",
       " 1.4,\n",
       " 1.5,\n",
       " 1.6,\n",
       " 1.7,\n",
       " 1.8,\n",
       " 1.9]"
      ]
     },
     "execution_count": 9,
     "metadata": {},
     "output_type": "execute_result"
    }
   ],
   "source": [
    "weights = [i/10 for i in range(20)]\n",
    "weights"
   ]
  },
  {
   "cell_type": "code",
   "execution_count": 15,
   "metadata": {},
   "outputs": [
    {
     "name": "stdout",
     "output_type": "stream",
     "text": [
      "0.0\n",
      "tensor([60.6725, 79.1423, 86.4035])\n",
      "0.1\n",
      "tensor([60.7212, 79.0936, 86.4847])\n",
      "0.2\n",
      "tensor([60.7862, 79.1748, 86.5172])\n",
      "0.3\n",
      "tensor([60.7375, 79.3047, 86.5660])\n",
      "0.4\n",
      "tensor([60.6888, 79.2723, 86.7284])\n",
      "0.5\n",
      "tensor([60.6725, 79.4672, 86.6959])\n",
      "0.6\n",
      "tensor([60.6563, 79.4184, 86.6472])\n",
      "0.7\n",
      "tensor([60.6563, 79.3535, 86.6634])\n",
      "0.8\n",
      "tensor([60.7212, 79.3372, 86.6147])\n",
      "0.9\n",
      "tensor([60.6563, 79.4184, 86.5822])\n",
      "1.0\n",
      "tensor([60.7537, 79.4184, 86.6309])\n",
      "1.1\n",
      "tensor([60.6400, 79.4022, 86.5984])\n",
      "1.2\n",
      "tensor([60.5426, 79.4022, 86.5335])\n",
      "1.3\n",
      "tensor([60.5263, 79.3860, 86.5335])\n",
      "1.4\n",
      "tensor([60.4613, 79.3860, 86.5984])\n",
      "1.5\n",
      "tensor([60.4776, 79.3860, 86.5335])\n",
      "1.6\n",
      "tensor([60.4451, 79.3860, 86.5172])\n",
      "1.7\n",
      "tensor([60.4613, 79.4347, 86.4847])\n",
      "1.8\n",
      "tensor([60.4289, 79.3697, 86.4685])\n",
      "1.9\n",
      "tensor([60.4289, 79.3697, 86.4685])\n"
     ]
    }
   ],
   "source": [
    "for weight in weights:\n",
    "    print(weight)\n",
    "    final_similarity = similarity + weight * similarity_fine\n",
    "    t2i_cmc, _ = rank(torch.tensor(final_similarity), torch.tensor(text_pid), torch.tensor(image_pid), topk, get_mAP=False)\n",
    "    print(t2i_cmc)"
   ]
  },
  {
   "cell_type": "code",
   "execution_count": 18,
   "metadata": {},
   "outputs": [
    {
     "name": "stdout",
     "output_type": "stream",
     "text": [
      "tensor([54.0936, 74.9513, 83.1222])\n"
     ]
    }
   ],
   "source": [
    "t2i_cmc, _ = rank(torch.tensor(similarity_fine), torch.tensor(text_pid), torch.tensor(image_pid), topk, get_mAP=False)\n",
    "print(t2i_cmc)"
   ]
  }
 ],
 "metadata": {
  "kernelspec": {
   "display_name": "txtreid",
   "language": "python",
   "name": "txtreid"
  },
  "language_info": {
   "codemirror_mode": {
    "name": "ipython",
    "version": 3
   },
   "file_extension": ".py",
   "mimetype": "text/x-python",
   "name": "python",
   "nbconvert_exporter": "python",
   "pygments_lexer": "ipython3",
   "version": "3.7.12"
  }
 },
 "nbformat": 4,
 "nbformat_minor": 2
}
