{
 "cells": [
  {
   "cell_type": "code",
   "execution_count": 16,
   "id": "15b9a864",
   "metadata": {},
   "outputs": [],
   "source": [
    "import os\n",
    "from matplotlib import pyplot as plt "
   ]
  },
  {
   "cell_type": "code",
   "execution_count": 291,
   "id": "49496e62",
   "metadata": {},
   "outputs": [],
   "source": [
    "file = 'nohup_prw_ohc_cluster.out'\n",
    "file = 'nohup_prw_sampler.out'\n",
    "# file = 'nohup_prw_ohc_hybrid.out'\n",
    "# file = 'nohup_baseline_prw.out'\n",
    "# file = 'nohup_prw_ohc_instance.out'\n",
    "file = './output/cuhkpedes/baseline_gru_rn50_ls_bs128/log.txt'\n",
    "file = './output/cuhkpedes/baseline_gru_cliprn50_ls_bs128_vit/log.txt'\n",
    "# file = './output/VIT/baseline_textvit_clipvit_ls_bs96_stride16/log.txt'\n",
    "# file = './nohup_baseline_textvit_clipvit_bs96_stride16_test_4.out'\n",
    "file = 'nohup_textvit_bs128_layer1.out'\n",
    "file = 'nohup_textvit_bs96_layer6_o.out'\n",
    "file = 'nohup_textvit_bs96_layer6_self_copy.out'\n",
    "file = 'nohup_share_layer12_bs64_fine.out'\n",
    "file = 'nohup_share_layer12_bs64_seed1_wofine_wd4e-4.out'\n",
    "file = './output/log.txt'\n",
    "file = 'nohup_share_layer12_bs64_seed1_wofine_wd4e-4_extra.out'\n",
    "file = 'nohup_declipvit_gru.out'\n",
    "file = 'nohup_baseline_clipvit_ls_bs64_stride16_clipvit16.out'\n",
    "file = 'nohup_baseline_clipvit_ls_bs64_stride16_clipvit32.out'\n",
    "file = 'nohup_share_layer12_bs64_seed0_wofine_wd4e-4_onehot.out'\n",
    "file = 'nohup_share_layer12_bs64_seed0_wofine_wd4e-4_new.out'\n",
    "file = 'nohup_share_layer12_bs64_seed0_wofine_wd4e-4_triplt_only.out'\n",
    "file = 'nohup_share_layer12_bs64_seed0_wofine_wd4e-4_triplt_align1.5.out'\n",
    "\n",
    "# file = 'nohup_share_layer12_bs64_seed0_wofine.out'\n",
    "# file = 'nohup_share_layer12_bs64_fine_wmask_seed1_womaskupdate_warmupepoch0.out'\n",
    "# file = 'nohup_share_layer12_bs64_fine_wmask_seed1_maskupdate.out'"
   ]
  },
  {
   "cell_type": "code",
   "execution_count": 292,
   "id": "a3f9ebd8",
   "metadata": {},
   "outputs": [],
   "source": [
    "with open(file) as f:\n",
    "    data = f.readlines()\n",
    "    "
   ]
  },
  {
   "cell_type": "code",
   "execution_count": 293,
   "id": "735cf80c",
   "metadata": {},
   "outputs": [],
   "source": [
    "epoch = 0\n",
    "Top1 = []\n",
    "Top5 = []\n",
    "Top10 = []\n",
    "\n",
    "for i, line in enumerate(data):\n",
    "    if '|      1 |' in line:\n",
    "        value = line.split('|')[-3]\n",
    "        value = float(value.split('%')[0])\n",
    "        Top1.append(value)\n",
    "    if '|      5 |' in line:\n",
    "        value = line.split('|')[-3]\n",
    "        value = float(value.split('%')[0])\n",
    "        Top5.append(value)\n",
    "    if '|     10 |' in line:\n",
    "        value = line.split('|')[-3]\n",
    "        value = float(value.split('%')[0])\n",
    "        Top10.append(value)\n",
    "        epoch += 1"
   ]
  },
  {
   "cell_type": "code",
   "execution_count": 294,
   "id": "13f329e6",
   "metadata": {
    "scrolled": false
   },
   "outputs": [
    {
     "data": {
      "text/plain": [
       "[0.162443,\n",
       " 1.55945,\n",
       " 9.58415,\n",
       " 15.5945,\n",
       " 17.9662,\n",
       " 23.9604,\n",
       " 26.6894,\n",
       " 29.9383,\n",
       " 31.5302,\n",
       " 33.9181,\n",
       " 38.0442,\n",
       " 40.8707,\n",
       " 42.3977,\n",
       " 45.2729,\n",
       " 47.3034,\n",
       " 49.3665,\n",
       " 49.399,\n",
       " 49.7726,\n",
       " 51.4945,\n",
       " 51.8356,\n",
       " 52.1767,\n",
       " 52.4691,\n",
       " 53.1352,\n",
       " 53.1352,\n",
       " 55.0195,\n",
       " 52.8915,\n",
       " 54.4672,\n",
       " 54.4347,\n",
       " 55.5068,\n",
       " 53.6712,\n",
       " 53.9961,\n",
       " 54.2723,\n",
       " 55.052,\n",
       " 56.319,\n",
       " 54.6621,\n",
       " 55.4581,\n",
       " 55.2144,\n",
       " 56.0429,\n",
       " 56.0754,\n",
       " 55.4094,\n",
       " 59.1618,\n",
       " 60.2339,\n",
       " 60.1852,\n",
       " 60.3801,\n",
       " 60.2664,\n",
       " 60.2177,\n",
       " 60.2177,\n",
       " 60.64,\n",
       " 60.4126,\n",
       " 60.705,\n",
       " 60.8837,\n",
       " 60.5263,\n",
       " 60.5588,\n",
       " 60.705,\n",
       " 60.64,\n",
       " 60.7375,\n",
       " 60.77,\n",
       " 60.77,\n",
       " 60.7375,\n",
       " 60.705]"
      ]
     },
     "execution_count": 294,
     "metadata": {},
     "output_type": "execute_result"
    }
   ],
   "source": [
    "Top1"
   ]
  },
  {
   "cell_type": "code",
   "execution_count": 295,
   "id": "ce4eebd0",
   "metadata": {},
   "outputs": [],
   "source": [
    "Top11 = Top1\n",
    "Top51 = Top5\n",
    "Top101 = Top10"
   ]
  },
  {
   "cell_type": "code",
   "execution_count": 300,
   "id": "c767a2e9",
   "metadata": {},
   "outputs": [],
   "source": [
    "file = './nohup_baseline_gru_clipvit_ls_bs64_stride12.out'\n",
    "file = './output/VIT/baseline_textvit_clipvit_ls_bs96_stride16_layer6_self/log.txt'\n",
    "file = './nohup_baseline_textvit_clipvit_bs96_stride16_test_4.out'\n",
    "file = 'nohup_baseline_textvit_clipvit_bs96_stride16_layer6.out'\n",
    "file = 'nohup_textvit_bs128_layer1.out'\n",
    "file = 'nohup_textvit_bs96_layer6_self.out'\n",
    "file = './output/VIT/share_layer6_bs96_mask_pretrain/log.txt'\n",
    "file = 'nohup_share_layer6_bs96_drop_text.out'\n",
    "file = 'nohup_share_layer12_bs64_independ1.out'\n",
    "file = 'nohup_share_layer12_bs64_fine_wmask_seed1.out'\n",
    "file = 'nohup_share_layer12_bs64_fine_wmask_seed2.out'\n",
    "file = 'nohup_share_layer12_bs64_fine_back_4e-4.out'\n",
    "file = 'nohup_share_layer12_bs64_fine_wmask_seed1_womaskupdate.out'\n",
    "file = 'nohup_share_layer12_bs64_seed1_wofine.out'\n",
    "file = 'nohup_share_layer12_bs64_seed1_wofine_wd4e-4.out'\n",
    "file = 'nohup_share_layer12_bs64_seed1_wofine_wd4e-4_long.out'\n",
    "file = 'nohup_share_layer12_bs64_seed0_wofine_wd4e-4_new_norm.out'\n",
    "file = 'nohup_share_layer12_bs64_seed0_wofine_wd4e-4_triplt_continue.out'\n",
    "file = 'nohup_baseline_clipvit_ls_bs64_stride16_vit32_position_wd4e-5.out'\n",
    "file = 'nohup_baseline_clipvit_textvit_ls_bs64_stride16_layer6.out'\n",
    "file = 'nohup_share_layer12_bs64_seed0_wofine_wd4e-4_triplt_only.out'\n",
    "file = 'nohup_share_layer12_bs64_seed0_wofine_wd4e-4_triplt_align1.5.out'\n",
    "file = 'nohup_share_layer12_bs64_seed0_wofine_wd4e-4_triplt_align2.out'\n",
    "# file = 'nohup_share_layer12_bs64_seed0_wofine_wd4e-4_instance_textproject.out'\n",
    "# file = 'nohup_share_layer12_bs64_seed0_wofine_wd4e-4_instance0.5_triplt0.5.out'\n",
    "# file = 'nohup_baseline_clipvit_ls_bs64_stride16_ViT-B-32.out'\n",
    "# file = 'nohup_share_layer12_bs64_seed0_wofine_wd4e-4_textwoencoder.out'\n",
    "# file = 'nohup_share_layer12_bs64_seed0_wofine_wd4e-4_onehot.out'\n",
    "# file = 'nohup_share_layer12_bs64_seed1_wofine_wd4e-4_continue.out'\n",
    "# file = 'nohup_share_layer12_bs64_seed0_wofine_wd8e-4_real.out'\n",
    "# file = 'nohup_share_layer12_bs64_seed3_wofine_wd4e-4_long.out'\n",
    "# file = 'nohup_share_layer12_bs64_seed0_wofine_wd8e-5.out'\n",
    "# file = 'nohup_share_layer12_bs64_seed0_wofine_wd8e-4.out'\n",
    "# file = 'nohup_share_layer12_bs64_fine_wmask_seed1_womaskupdate_warmupepoch2.out'\n",
    "# file = 'nohup_share_layer12_bs64_fine_wmask_seed1_wd8e-5.out'\n",
    "# file = './output/VIT/share_layer6_bs84/log.txt'\n",
    "\n",
    "# file = 'nohup_textvit_bs96_layer6_self_update.out'\n",
    "# file = './nohup_baseline_gru_vit_ls_bs128_real.out'\n",
    "# file = 'nohup_textvit_bs96_layer6_self_norm_first.out'\n",
    "# file = 'nohup_textvit_bs96_layer6_self_v2.out'\n",
    "# file = 'nohup_textvit_bs96_layer6_self_copy.out'\n",
    "# file = 'nohup_textvit_copy.out'\n",
    "with open(file) as f:\n",
    "    data = f.readlines()\n",
    "epoch = 0\n",
    "Top1 = []\n",
    "Top5 = []\n",
    "Top10 = []\n",
    "\n",
    "for i, line in enumerate(data):\n",
    "    if '|      1 |' in line:\n",
    "        value = line.split('|')[-3]\n",
    "        value = float(value.split('%')[0])\n",
    "        Top1.append(value)\n",
    "    if '|      5 |' in line:\n",
    "        value = line.split('|')[-3]\n",
    "        value = float(value.split('%')[0])\n",
    "        Top5.append(value)\n",
    "    if '|     10 |' in line:\n",
    "        value = line.split('|')[-3]\n",
    "        value = float(value.split('%')[0])\n",
    "        Top10.append(value)\n",
    "        epoch += 1"
   ]
  },
  {
   "cell_type": "code",
   "execution_count": 301,
   "id": "cc8f1e21",
   "metadata": {},
   "outputs": [],
   "source": [
    "# Top1 = Top1_o + Top1"
   ]
  },
  {
   "cell_type": "code",
   "execution_count": 302,
   "id": "d13e7c00",
   "metadata": {},
   "outputs": [
    {
     "data": {
      "text/plain": [
       "[0.129955,\n",
       " 0.357375,\n",
       " 4.74334,\n",
       " 12.3457,\n",
       " 18.551,\n",
       " 22.3359,\n",
       " 26.2671,\n",
       " 28.6387,\n",
       " 32.7485,\n",
       " 35.3476,\n",
       " 37.6056,\n",
       " 40.8545,\n",
       " 41.6992,\n",
       " 45.3866,\n",
       " 46.1014,\n",
       " 47.5309,\n",
       " 47.6608,\n",
       " 49.6101,\n",
       " 49.5939,\n",
       " 50.7635,\n",
       " 52.0793,\n",
       " 51.2995,\n",
       " 53.4438,\n",
       " 52.0143]"
      ]
     },
     "execution_count": 302,
     "metadata": {},
     "output_type": "execute_result"
    }
   ],
   "source": [
    "Top1"
   ]
  },
  {
   "cell_type": "code",
   "execution_count": 303,
   "id": "daa0b6c6",
   "metadata": {},
   "outputs": [
    {
     "data": {
      "image/png": "[encoded data removed]",
      "text/plain": [
       "<Figure size 432x288 with 1 Axes>"
      ]
     },
     "metadata": {
      "needs_background": "light"
     },
     "output_type": "display_data"
    }
   ],
   "source": [
    "x = [i for i in range(len(Top1))]\n",
    "x2 = [i for i in range(len(Top11))]\n",
    "# new\n",
    "plt.grid(linestyle='-.')\n",
    "plt.plot(x, Top1, 'r')\n",
    "# baseline\n",
    "plt.plot(x2, Top11, 'b')\n",
    "plt.show()\n",
    "# print('top1')\n",
    "# plt.grid(linestyle='-.')\n",
    "# plt.plot(x, Top1, 'r')\n",
    "# # plt.plot(x, Top11[:len(mAP)], 'b')\n",
    "# plt.show()"
   ]
  },
  {
   "cell_type": "code",
   "execution_count": 257,
   "id": "fbcdc014",
   "metadata": {},
   "outputs": [
    {
     "data": {
      "text/plain": [
       "37.8817"
      ]
     },
     "execution_count": 257,
     "metadata": {},
     "output_type": "execute_result"
    }
   ],
   "source": [
    "Top11[12]"
   ]
  },
  {
   "cell_type": "code",
   "execution_count": 157,
   "id": "0226534a",
   "metadata": {},
   "outputs": [
    {
     "data": {
      "text/plain": [
       "51.397"
      ]
     },
     "execution_count": 157,
     "metadata": {},
     "output_type": "execute_result"
    }
   ],
   "source": [
    "max(Top1)"
   ]
  },
  {
   "cell_type": "code",
   "execution_count": 67,
   "id": "5d28ba60",
   "metadata": {},
   "outputs": [],
   "source": [
    "Top1_o = Top1"
   ]
  }
 ],
 "metadata": {
  "kernelspec": {
   "display_name": "Python 3 (ipykernel)",
   "language": "python",
   "name": "python3"
  },
  "language_info": {
   "codemirror_mode": {
    "name": "ipython",
    "version": 3
   },
   "file_extension": ".py",
   "mimetype": "text/x-python",
   "name": "python",
   "nbconvert_exporter": "python",
   "pygments_lexer": "ipython3",
   "version": "3.7.11"
  }
 },
 "nbformat": 4,
 "nbformat_minor": 5
}
