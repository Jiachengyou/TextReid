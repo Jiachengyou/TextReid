{
 "cells": [
  {
   "cell_type": "code",
   "execution_count": 46,
   "id": "b40690b0",
   "metadata": {},
   "outputs": [],
   "source": [
    "import os\n",
    "from matplotlib import pyplot as plt "
   ]
  },
  {
   "cell_type": "code",
   "execution_count": 134,
   "id": "2bcacc0d",
   "metadata": {},
   "outputs": [],
   "source": [
    "file = 'nohup_prw_ohc_cluster.out'\n",
    "file = 'nohup_prw_sampler.out'\n",
    "# file = 'nohup_prw_ohc_hybrid.out'\n",
    "# file = 'nohup_baseline_prw.out'\n",
    "# file = 'nohup_prw_ohc_instance.out'\n",
    "file = './output/cuhkpedes/baseline_gru_rn50_ls_bs128/log.txt'\n",
    "file = './output/cuhkpedes/baseline_gru_cliprn50_ls_bs128_vit/log.txt'\n",
    "# file = './output/VIT/baseline_textvit_clipvit_ls_bs96_stride16/log.txt'\n",
    "# file = './nohup_baseline_textvit_clipvit_bs96_stride16_test_4.out'\n"
   ]
  },
  {
   "cell_type": "code",
   "execution_count": 135,
   "id": "99ded25d",
   "metadata": {},
   "outputs": [],
   "source": [
    "with open(file) as f:\n",
    "    data = f.readlines()\n",
    "    "
   ]
  },
  {
   "cell_type": "code",
   "execution_count": 136,
   "id": "138b8f88",
   "metadata": {},
   "outputs": [],
   "source": [
    "epoch = 0\n",
    "Top1 = []\n",
    "Top5 = []\n",
    "Top10 = []\n",
    "\n",
    "for i, line in enumerate(data):\n",
    "    if '|      1 |' in line:\n",
    "        value = line.split('|')[-3]\n",
    "        value = float(value.split('%')[0])\n",
    "        Top1.append(value)\n",
    "    if '|      5 |' in line:\n",
    "        value = line.split('|')[-3]\n",
    "        value = float(value.split('%')[0])\n",
    "        Top5.append(value)\n",
    "    if '|     10 |' in line:\n",
    "        value = line.split('|')[-3]\n",
    "        value = float(value.split('%')[0])\n",
    "        Top10.append(value)\n",
    "        epoch += 1"
   ]
  },
  {
   "cell_type": "code",
   "execution_count": 137,
   "id": "40e8708d",
   "metadata": {},
   "outputs": [
    {
     "data": {
      "text/plain": [
       "[0.194932,\n",
       " 4.69461,\n",
       " 19.1358,\n",
       " 30.0682,\n",
       " 34.909,\n",
       " 39.6524,\n",
       " 43.8272,\n",
       " 46.8811,\n",
       " 48.9116,\n",
       " 51.0071,\n",
       " 51.9656,\n",
       " 52.128,\n",
       " 52.8752,\n",
       " 53.0864,\n",
       " 54.4997,\n",
       " 55.2307,\n",
       " 55.1819,\n",
       " 56.1404,\n",
       " 56.3028,\n",
       " 56.3028,\n",
       " 56.384,\n",
       " 57.2775,\n",
       " 57.716,\n",
       " 57.1475,\n",
       " 59.2105,\n",
       " 58.5283,\n",
       " 57.846,\n",
       " 58.512,\n",
       " 58.707,\n",
       " 58.447,\n",
       " 58.642,\n",
       " 59.1456,\n",
       " 58.9831,\n",
       " 59.308,\n",
       " 59.3892,\n",
       " 59.0968,\n",
       " 59.308,\n",
       " 59.6329,\n",
       " 59.5517,\n",
       " 59.1456,\n",
       " 60.8025,\n",
       " 60.9487,\n",
       " 60.9649,\n",
       " 61.0624,\n",
       " 60.8999,\n",
       " 60.9649,\n",
       " 61.3385,\n",
       " 60.8837,\n",
       " 61.4847,\n",
       " 61.3223,\n",
       " 60.8999,\n",
       " 61.0949,\n",
       " 61.2411,\n",
       " 61.3223,\n",
       " 61.6797,\n",
       " 61.4035,\n",
       " 61.4685,\n",
       " 61.3385,\n",
       " 61.3385,\n",
       " 61.3873,\n",
       " 61.5984,\n",
       " 61.5984,\n",
       " 61.4198,\n",
       " 61.1923,\n",
       " 61.3385,\n",
       " 61.4198,\n",
       " 61.4847,\n",
       " 61.4198,\n",
       " 61.4522,\n",
       " 61.4522,\n",
       " 61.501,\n",
       " 61.4847,\n",
       " 61.6147,\n",
       " 61.6147,\n",
       " 61.566,\n",
       " 61.3385,\n",
       " 61.4685,\n",
       " 61.3873,\n",
       " 61.5822,\n",
       " 61.4847]"
      ]
     },
     "execution_count": 137,
     "metadata": {},
     "output_type": "execute_result"
    }
   ],
   "source": [
    "Top1"
   ]
  },
  {
   "cell_type": "code",
   "execution_count": 138,
   "id": "0fcfa73a",
   "metadata": {},
   "outputs": [],
   "source": [
    "Top11 = Top1\n",
    "Top51 = Top5\n",
    "Top101 = Top10"
   ]
  },
  {
   "cell_type": "code",
   "execution_count": 139,
   "id": "e1d4f4ae",
   "metadata": {},
   "outputs": [],
   "source": [
    "file = './nohup_baseline_gru_clipvit_ls_bs64_stride12.out'\n",
    "file = './output/VIT/baseline_textvit_clipvit_ls_bs96_stride16_test_4/log.txt'\n",
    "file = './nohup_baseline_textvit_clipvit_bs96_stride16_test_4.out'\n",
    "file = 'nohup_baseline_textvit_clipvit_bs96_stride16_layer6.out'\n",
    "\n",
    "# file = './nohup_baseline_gru_vit_ls_bs128_real.out'\n",
    "with open(file) as f:\n",
    "    data = f.readlines()\n",
    "epoch = 0\n",
    "Top1 = []\n",
    "Top5 = []\n",
    "Top10 = []\n",
    "\n",
    "for i, line in enumerate(data):\n",
    "    if '|      1 |' in line:\n",
    "        value = line.split('|')[-3]\n",
    "        value = float(value.split('%')[0])\n",
    "        Top1.append(value)\n",
    "    if '|      5 |' in line:\n",
    "        value = line.split('|')[-3]\n",
    "        value = float(value.split('%')[0])\n",
    "        Top5.append(value)\n",
    "    if '|     10 |' in line:\n",
    "        value = line.split('|')[-3]\n",
    "        value = float(value.split('%')[0])\n",
    "        Top10.append(value)\n",
    "        epoch += 1"
   ]
  },
  {
   "cell_type": "code",
   "execution_count": 140,
   "id": "66634756",
   "metadata": {},
   "outputs": [
    {
     "data": {
      "text/plain": [
       "[0.129955,\n",
       " 0.0649773,\n",
       " 0.162443,\n",
       " 1.75439,\n",
       " 4.61339,\n",
       " 12.0208,\n",
       " 18.6972,\n",
       " 26.2671,\n",
       " 29.922,\n",
       " 31.9201,\n",
       " 33.3008,\n",
       " 36.6147,\n",
       " 41.358,\n",
       " 43.4698,\n",
       " 44.0871,\n",
       " 46.7349,\n",
       " 46.2638,\n",
       " 47.6608,\n",
       " 47.5146,\n",
       " 50.6985,\n",
       " 50.8609,\n",
       " 51.3808,\n",
       " 52.5666,\n",
       " 51.9331,\n",
       " 52.794,\n",
       " 53.2164,\n",
       " 52.0793,\n",
       " 53.4925,\n",
       " 51.9818,\n",
       " 52.5016,\n",
       " 53.0864,\n",
       " 53.1352,\n",
       " 52.5828,\n",
       " 52.4691,\n",
       " 53.8661,\n",
       " 52.7128,\n",
       " 53.2976,\n",
       " 53.46,\n",
       " 53.5413,\n",
       " 51.8843,\n",
       " 55.6693]"
      ]
     },
     "execution_count": 140,
     "metadata": {},
     "output_type": "execute_result"
    }
   ],
   "source": [
    "Top1"
   ]
  },
  {
   "cell_type": "code",
   "execution_count": 141,
   "id": "48fba2f6",
   "metadata": {},
   "outputs": [
    {
     "data": {
      "image/png": "[encoded data removed]",
      "text/plain": [
       "<Figure size 432x288 with 1 Axes>"
      ]
     },
     "metadata": {
      "needs_background": "light"
     },
     "output_type": "display_data"
    },
    {
     "name": "stdout",
     "output_type": "stream",
     "text": [
      "top1\n"
     ]
    }
   ],
   "source": [
    "x = [i for i in range(len(Top1))]\n",
    "# new\n",
    "plt.grid(linestyle='-.')\n",
    "plt.plot(x, Top1, 'r')\n",
    "# baseline\n",
    "plt.plot(x, Top11[:len(Top1)], 'b')\n",
    "plt.show()\n",
    "print('top1')\n",
    "# plt.grid(linestyle='-.')\n",
    "# plt.plot(x, Top1, 'r')\n",
    "# # plt.plot(x, Top11[:len(mAP)], 'b')\n",
    "# plt.show()"
   ]
  },
  {
   "cell_type": "code",
   "execution_count": 142,
   "id": "e82925e5",
   "metadata": {},
   "outputs": [
    {
     "data": {
      "text/plain": [
       "55.2307"
      ]
     },
     "execution_count": 142,
     "metadata": {},
     "output_type": "execute_result"
    }
   ],
   "source": [
    "Top11[15]"
   ]
  },
  {
   "cell_type": "code",
   "execution_count": 143,
   "id": "e4c6a695",
   "metadata": {},
   "outputs": [
    {
     "data": {
      "text/plain": [
       "55.6693"
      ]
     },
     "execution_count": 143,
     "metadata": {},
     "output_type": "execute_result"
    }
   ],
   "source": [
    "max(Top1)"
   ]
  },
  {
   "cell_type": "code",
   "execution_count": null,
   "id": "e7623d53",
   "metadata": {},
   "outputs": [],
   "source": []
  }
 ],
 "metadata": {
  "kernelspec": {
   "display_name": "SeqNet",
   "language": "python",
   "name": "seqnet"
  },
  "language_info": {
   "codemirror_mode": {
    "name": "ipython",
    "version": 3
   },
   "file_extension": ".py",
   "mimetype": "text/x-python",
   "name": "python",
   "nbconvert_exporter": "python",
   "pygments_lexer": "ipython3",
   "version": "3.7.11"
  }
 },
 "nbformat": 4,
 "nbformat_minor": 5
}
