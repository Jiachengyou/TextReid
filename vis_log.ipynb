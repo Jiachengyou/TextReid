{
 "cells": [
  {
   "cell_type": "code",
   "execution_count": 757,
   "metadata": {},
   "outputs": [
    {
     "data": {
      "text/plain": [
       "torch.Size([2, 4, 3])"
      ]
     },
     "execution_count": 757,
     "metadata": {},
     "output_type": "execute_result"
    }
   ],
   "source": [
    "a = torch.ones(2,4,3)\n",
    "a.shape"
   ]
  },
  {
   "cell_type": "code",
   "execution_count": 758,
   "metadata": {},
   "outputs": [
    {
     "data": {
      "text/plain": [
       "(torch.Size([2, 4]), tensor([[3., 3., 3., 3.],\n",
       "         [3., 3., 3., 3.]]))"
      ]
     },
     "execution_count": 758,
     "metadata": {},
     "output_type": "execute_result"
    }
   ],
   "source": [
    "b = torch.sum(a,-1)\n",
    "b.shape,b"
   ]
  },
  {
   "cell_type": "code",
   "execution_count": 761,
   "metadata": {},
   "outputs": [
    {
     "data": {
      "text/plain": [
       "tensor([[[0.3333, 0.3333, 0.3333],\n",
       "         [0.3333, 0.3333, 0.3333],\n",
       "         [0.3333, 0.3333, 0.3333],\n",
       "         [0.3333, 0.3333, 0.3333]],\n",
       "\n",
       "        [[0.3333, 0.3333, 0.3333],\n",
       "         [0.3333, 0.3333, 0.3333],\n",
       "         [0.3333, 0.3333, 0.3333],\n",
       "         [0.3333, 0.3333, 0.3333]]])"
      ]
     },
     "execution_count": 761,
     "metadata": {},
     "output_type": "execute_result"
    }
   ],
   "source": [
    "a / b.unsqueeze(-1)"
   ]
  },
  {
   "cell_type": "code",
   "execution_count": null,
   "metadata": {},
   "outputs": [],
   "source": [
    "import torch.nn as nn"
   ]
  },
  {
   "cell_type": "code",
   "execution_count": 668,
   "metadata": {},
   "outputs": [
    {
     "data": {
      "text/plain": [
       "dict_keys(['class_embedding', 'positional_embedding', 'proj', 'conv1.weight', 'ln_pre.weight', 'ln_pre.bias', 'transformer.resblocks.0.attn.in_proj_weight', 'transformer.resblocks.0.attn.in_proj_bias', 'transformer.resblocks.0.attn.out_proj.weight', 'transformer.resblocks.0.attn.out_proj.bias', 'transformer.resblocks.0.ln_1.weight', 'transformer.resblocks.0.ln_1.bias', 'transformer.resblocks.0.mlp.c_fc.weight', 'transformer.resblocks.0.mlp.c_fc.bias', 'transformer.resblocks.0.mlp.c_proj.weight', 'transformer.resblocks.0.mlp.c_proj.bias', 'transformer.resblocks.0.ln_2.weight', 'transformer.resblocks.0.ln_2.bias', 'transformer.resblocks.1.attn.in_proj_weight', 'transformer.resblocks.1.attn.in_proj_bias', 'transformer.resblocks.1.attn.out_proj.weight', 'transformer.resblocks.1.attn.out_proj.bias', 'transformer.resblocks.1.ln_1.weight', 'transformer.resblocks.1.ln_1.bias', 'transformer.resblocks.1.mlp.c_fc.weight', 'transformer.resblocks.1.mlp.c_fc.bias', 'transformer.resblocks.1.mlp.c_proj.weight', 'transformer.resblocks.1.mlp.c_proj.bias', 'transformer.resblocks.1.ln_2.weight', 'transformer.resblocks.1.ln_2.bias', 'transformer.resblocks.2.attn.in_proj_weight', 'transformer.resblocks.2.attn.in_proj_bias', 'transformer.resblocks.2.attn.out_proj.weight', 'transformer.resblocks.2.attn.out_proj.bias', 'transformer.resblocks.2.ln_1.weight', 'transformer.resblocks.2.ln_1.bias', 'transformer.resblocks.2.mlp.c_fc.weight', 'transformer.resblocks.2.mlp.c_fc.bias', 'transformer.resblocks.2.mlp.c_proj.weight', 'transformer.resblocks.2.mlp.c_proj.bias', 'transformer.resblocks.2.ln_2.weight', 'transformer.resblocks.2.ln_2.bias', 'transformer.resblocks.3.attn.in_proj_weight', 'transformer.resblocks.3.attn.in_proj_bias', 'transformer.resblocks.3.attn.out_proj.weight', 'transformer.resblocks.3.attn.out_proj.bias', 'transformer.resblocks.3.ln_1.weight', 'transformer.resblocks.3.ln_1.bias', 'transformer.resblocks.3.mlp.c_fc.weight', 'transformer.resblocks.3.mlp.c_fc.bias', 'transformer.resblocks.3.mlp.c_proj.weight', 'transformer.resblocks.3.mlp.c_proj.bias', 'transformer.resblocks.3.ln_2.weight', 'transformer.resblocks.3.ln_2.bias', 'transformer.resblocks.4.attn.in_proj_weight', 'transformer.resblocks.4.attn.in_proj_bias', 'transformer.resblocks.4.attn.out_proj.weight', 'transformer.resblocks.4.attn.out_proj.bias', 'transformer.resblocks.4.ln_1.weight', 'transformer.resblocks.4.ln_1.bias', 'transformer.resblocks.4.mlp.c_fc.weight', 'transformer.resblocks.4.mlp.c_fc.bias', 'transformer.resblocks.4.mlp.c_proj.weight', 'transformer.resblocks.4.mlp.c_proj.bias', 'transformer.resblocks.4.ln_2.weight', 'transformer.resblocks.4.ln_2.bias', 'transformer.resblocks.5.attn.in_proj_weight', 'transformer.resblocks.5.attn.in_proj_bias', 'transformer.resblocks.5.attn.out_proj.weight', 'transformer.resblocks.5.attn.out_proj.bias', 'transformer.resblocks.5.ln_1.weight', 'transformer.resblocks.5.ln_1.bias', 'transformer.resblocks.5.mlp.c_fc.weight', 'transformer.resblocks.5.mlp.c_fc.bias', 'transformer.resblocks.5.mlp.c_proj.weight', 'transformer.resblocks.5.mlp.c_proj.bias', 'transformer.resblocks.5.ln_2.weight', 'transformer.resblocks.5.ln_2.bias', 'transformer.resblocks.6.attn.in_proj_weight', 'transformer.resblocks.6.attn.in_proj_bias', 'transformer.resblocks.6.attn.out_proj.weight', 'transformer.resblocks.6.attn.out_proj.bias', 'transformer.resblocks.6.ln_1.weight', 'transformer.resblocks.6.ln_1.bias', 'transformer.resblocks.6.mlp.c_fc.weight', 'transformer.resblocks.6.mlp.c_fc.bias', 'transformer.resblocks.6.mlp.c_proj.weight', 'transformer.resblocks.6.mlp.c_proj.bias', 'transformer.resblocks.6.ln_2.weight', 'transformer.resblocks.6.ln_2.bias', 'transformer.resblocks.7.attn.in_proj_weight', 'transformer.resblocks.7.attn.in_proj_bias', 'transformer.resblocks.7.attn.out_proj.weight', 'transformer.resblocks.7.attn.out_proj.bias', 'transformer.resblocks.7.ln_1.weight', 'transformer.resblocks.7.ln_1.bias', 'transformer.resblocks.7.mlp.c_fc.weight', 'transformer.resblocks.7.mlp.c_fc.bias', 'transformer.resblocks.7.mlp.c_proj.weight', 'transformer.resblocks.7.mlp.c_proj.bias', 'transformer.resblocks.7.ln_2.weight', 'transformer.resblocks.7.ln_2.bias', 'transformer.resblocks.8.attn.in_proj_weight', 'transformer.resblocks.8.attn.in_proj_bias', 'transformer.resblocks.8.attn.out_proj.weight', 'transformer.resblocks.8.attn.out_proj.bias', 'transformer.resblocks.8.ln_1.weight', 'transformer.resblocks.8.ln_1.bias', 'transformer.resblocks.8.mlp.c_fc.weight', 'transformer.resblocks.8.mlp.c_fc.bias', 'transformer.resblocks.8.mlp.c_proj.weight', 'transformer.resblocks.8.mlp.c_proj.bias', 'transformer.resblocks.8.ln_2.weight', 'transformer.resblocks.8.ln_2.bias', 'transformer.resblocks.9.attn.in_proj_weight', 'transformer.resblocks.9.attn.in_proj_bias', 'transformer.resblocks.9.attn.out_proj.weight', 'transformer.resblocks.9.attn.out_proj.bias', 'transformer.resblocks.9.ln_1.weight', 'transformer.resblocks.9.ln_1.bias', 'transformer.resblocks.9.mlp.c_fc.weight', 'transformer.resblocks.9.mlp.c_fc.bias', 'transformer.resblocks.9.mlp.c_proj.weight', 'transformer.resblocks.9.mlp.c_proj.bias', 'transformer.resblocks.9.ln_2.weight', 'transformer.resblocks.9.ln_2.bias', 'transformer.resblocks.10.attn.in_proj_weight', 'transformer.resblocks.10.attn.in_proj_bias', 'transformer.resblocks.10.attn.out_proj.weight', 'transformer.resblocks.10.attn.out_proj.bias', 'transformer.resblocks.10.ln_1.weight', 'transformer.resblocks.10.ln_1.bias', 'transformer.resblocks.10.mlp.c_fc.weight', 'transformer.resblocks.10.mlp.c_fc.bias', 'transformer.resblocks.10.mlp.c_proj.weight', 'transformer.resblocks.10.mlp.c_proj.bias', 'transformer.resblocks.10.ln_2.weight', 'transformer.resblocks.10.ln_2.bias', 'transformer.resblocks.11.attn.in_proj_weight', 'transformer.resblocks.11.attn.in_proj_bias', 'transformer.resblocks.11.attn.out_proj.weight', 'transformer.resblocks.11.attn.out_proj.bias', 'transformer.resblocks.11.ln_1.weight', 'transformer.resblocks.11.ln_1.bias', 'transformer.resblocks.11.mlp.c_fc.weight', 'transformer.resblocks.11.mlp.c_fc.bias', 'transformer.resblocks.11.mlp.c_proj.weight', 'transformer.resblocks.11.mlp.c_proj.bias', 'transformer.resblocks.11.ln_2.weight', 'transformer.resblocks.11.ln_2.bias', 'ln_post.weight', 'ln_post.bias'])"
      ]
     },
     "execution_count": 668,
     "metadata": {},
     "output_type": "execute_result"
    }
   ],
   "source": [
    "import torch\n",
    "data1 = torch.load('pretrained/clip/declip_vitb32_convert.pth.tar')['state_dict'].keys()\n",
    "torch.load('pretrained/clip/jx_vit_base_p16_224-80ecf9dd.pth').keys()\n",
    "data1"
   ]
  },
  {
   "cell_type": "code",
   "execution_count": 676,
   "metadata": {},
   "outputs": [],
   "source": [
    "torch.manual_seed(1)\n",
    "torch.cuda.manual_seed_all(1)"
   ]
  },
  {
   "cell_type": "code",
   "execution_count": 694,
   "metadata": {},
   "outputs": [],
   "source": [
    "import torch.nn as nn\n",
    "import torch"
   ]
  },
  {
   "cell_type": "code",
   "execution_count": 714,
   "metadata": {},
   "outputs": [],
   "source": [
    "torch.manual_seed(1)\n",
    "torch.cuda.manual_seed_all(1)"
   ]
  },
  {
   "cell_type": "code",
   "execution_count": 715,
   "metadata": {},
   "outputs": [
    {
     "data": {
      "text/plain": [
       "OrderedDict([('self_attn.in_proj_weight',\n",
       "              tensor([[-0.0345,  0.0789,  0.1150,  ...,  0.0009, -0.0297,  0.0610],\n",
       "                      [-0.0941, -0.0737, -0.1202,  ..., -0.0368,  0.0382, -0.0435],\n",
       "                      [-0.1057, -0.1155,  0.0573,  ..., -0.1222,  0.0431,  0.0456],\n",
       "                      ...,\n",
       "                      [-0.0875, -0.0779, -0.0705,  ...,  0.0794, -0.0871, -0.0156],\n",
       "                      [-0.0929,  0.0274, -0.0617,  ..., -0.0527,  0.0511, -0.0891],\n",
       "                      [-0.0526,  0.0433,  0.0359,  ..., -0.0618, -0.1175, -0.0018]])),\n",
       "             ('self_attn.in_proj_bias',\n",
       "              tensor([0., 0., 0., 0., 0., 0., 0., 0., 0., 0., 0., 0., 0., 0., 0., 0., 0., 0., 0., 0., 0., 0., 0., 0.,\n",
       "                      0., 0., 0., 0., 0., 0., 0., 0., 0., 0., 0., 0., 0., 0., 0., 0., 0., 0., 0., 0., 0., 0., 0., 0.,\n",
       "                      0., 0., 0., 0., 0., 0., 0., 0., 0., 0., 0., 0., 0., 0., 0., 0., 0., 0., 0., 0., 0., 0., 0., 0.,\n",
       "                      0., 0., 0., 0., 0., 0., 0., 0., 0., 0., 0., 0., 0., 0., 0., 0., 0., 0., 0., 0., 0., 0., 0., 0.,\n",
       "                      0., 0., 0., 0., 0., 0., 0., 0., 0., 0., 0., 0., 0., 0., 0., 0., 0., 0., 0., 0., 0., 0., 0., 0.,\n",
       "                      0., 0., 0., 0., 0., 0., 0., 0., 0., 0., 0., 0., 0., 0., 0., 0., 0., 0., 0., 0., 0., 0., 0., 0.,\n",
       "                      0., 0., 0., 0., 0., 0., 0., 0., 0., 0., 0., 0., 0., 0., 0., 0., 0., 0., 0., 0., 0., 0., 0., 0.,\n",
       "                      0., 0., 0., 0., 0., 0., 0., 0., 0., 0., 0., 0., 0., 0., 0., 0., 0., 0., 0., 0., 0., 0., 0., 0.,\n",
       "                      0., 0., 0., 0., 0., 0., 0., 0., 0., 0., 0., 0., 0., 0., 0., 0., 0., 0., 0., 0., 0., 0., 0., 0.,\n",
       "                      0., 0., 0., 0., 0., 0., 0., 0., 0., 0., 0., 0., 0., 0., 0., 0., 0., 0., 0., 0., 0., 0., 0., 0.,\n",
       "                      0., 0., 0., 0., 0., 0., 0., 0., 0., 0., 0., 0., 0., 0., 0., 0., 0., 0., 0., 0., 0., 0., 0., 0.,\n",
       "                      0., 0., 0., 0., 0., 0., 0., 0., 0., 0., 0., 0., 0., 0., 0., 0., 0., 0., 0., 0., 0., 0., 0., 0.,\n",
       "                      0., 0., 0., 0., 0., 0., 0., 0., 0., 0., 0., 0.])),\n",
       "             ('self_attn.out_proj.weight',\n",
       "              tensor([[ 0.0515, -0.0441, -0.0194,  ...,  0.0179, -0.0425, -0.0303],\n",
       "                      [ 0.0916, -0.0185,  0.0564,  ...,  0.0642,  0.0978, -0.0700],\n",
       "                      [ 0.0242, -0.0739,  0.0854,  ...,  0.0014, -0.0571, -0.0558],\n",
       "                      ...,\n",
       "                      [-0.0237,  0.0013,  0.0138,  ...,  0.0391,  0.0385, -0.0413],\n",
       "                      [-0.0649, -0.0831, -0.0787,  ...,  0.0339,  0.0800,  0.0015],\n",
       "                      [ 0.0417, -0.0436,  0.0921,  ..., -0.0151, -0.0838,  0.0569]])),\n",
       "             ('self_attn.out_proj.bias',\n",
       "              tensor([0., 0., 0., 0., 0., 0., 0., 0., 0., 0., 0., 0., 0., 0., 0., 0., 0., 0., 0., 0., 0., 0., 0., 0.,\n",
       "                      0., 0., 0., 0., 0., 0., 0., 0., 0., 0., 0., 0., 0., 0., 0., 0., 0., 0., 0., 0., 0., 0., 0., 0.,\n",
       "                      0., 0., 0., 0., 0., 0., 0., 0., 0., 0., 0., 0., 0., 0., 0., 0., 0., 0., 0., 0., 0., 0., 0., 0.,\n",
       "                      0., 0., 0., 0., 0., 0., 0., 0., 0., 0., 0., 0., 0., 0., 0., 0., 0., 0., 0., 0., 0., 0., 0., 0.,\n",
       "                      0., 0., 0., 0.])),\n",
       "             ('linear1.weight',\n",
       "              tensor([[ 0.0140, -0.0193, -0.0274,  ...,  0.0717,  0.0145,  0.0408],\n",
       "                      [-0.0291, -0.0506,  0.0747,  ..., -0.0258, -0.0975,  0.0949],\n",
       "                      [ 0.0778,  0.0661,  0.0811,  ..., -0.0951, -0.0312,  0.0010],\n",
       "                      ...,\n",
       "                      [-0.0601, -0.0107, -0.0786,  ..., -0.0488,  0.0633, -0.0569],\n",
       "                      [ 0.0892,  0.0259, -0.0103,  ..., -0.0011, -0.0487, -0.0535],\n",
       "                      [-0.0523, -0.0426,  0.0743,  ..., -0.0081,  0.0794,  0.0017]])),\n",
       "             ('linear1.bias',\n",
       "              tensor([-0.0640,  0.0568, -0.0861,  ...,  0.0312,  0.0776, -0.0440])),\n",
       "             ('linear2.weight',\n",
       "              tensor([[ 0.0167,  0.0185,  0.0194,  ..., -0.0219, -0.0107,  0.0051],\n",
       "                      [ 0.0056, -0.0054, -0.0029,  ...,  0.0179, -0.0005,  0.0053],\n",
       "                      [-0.0081, -0.0148, -0.0130,  ...,  0.0001,  0.0088,  0.0013],\n",
       "                      ...,\n",
       "                      [ 0.0023,  0.0190,  0.0120,  ...,  0.0025,  0.0052,  0.0028],\n",
       "                      [-0.0054, -0.0193, -0.0023,  ..., -0.0095, -0.0107, -0.0042],\n",
       "                      [-0.0015,  0.0077,  0.0005,  ..., -0.0041,  0.0116,  0.0150]])),\n",
       "             ('linear2.bias',\n",
       "              tensor([ 0.0061, -0.0132,  0.0174, -0.0058,  0.0096,  0.0205, -0.0020, -0.0097,\n",
       "                      -0.0096, -0.0172, -0.0193,  0.0065, -0.0017, -0.0006, -0.0004,  0.0016,\n",
       "                       0.0135,  0.0011,  0.0009,  0.0021,  0.0011, -0.0030, -0.0009, -0.0096,\n",
       "                       0.0068,  0.0186,  0.0195, -0.0106,  0.0004, -0.0198, -0.0188,  0.0112,\n",
       "                      -0.0122,  0.0008,  0.0098,  0.0121,  0.0176,  0.0112,  0.0053, -0.0160,\n",
       "                       0.0143, -0.0134, -0.0070,  0.0079,  0.0043,  0.0068,  0.0058,  0.0013,\n",
       "                      -0.0105,  0.0049,  0.0171, -0.0205, -0.0186,  0.0078, -0.0185,  0.0163,\n",
       "                       0.0075,  0.0205,  0.0031,  0.0076, -0.0066, -0.0159,  0.0089, -0.0019,\n",
       "                       0.0213,  0.0016,  0.0046, -0.0040,  0.0198, -0.0033,  0.0204, -0.0086,\n",
       "                      -0.0167, -0.0119, -0.0219,  0.0054, -0.0116,  0.0195, -0.0184,  0.0112,\n",
       "                      -0.0161,  0.0207, -0.0129,  0.0180,  0.0141, -0.0082, -0.0153, -0.0075,\n",
       "                       0.0018, -0.0028, -0.0162,  0.0067,  0.0173,  0.0007, -0.0074, -0.0011,\n",
       "                       0.0198, -0.0019, -0.0025,  0.0028])),\n",
       "             ('norm1.weight',\n",
       "              tensor([1., 1., 1., 1., 1., 1., 1., 1., 1., 1., 1., 1., 1., 1., 1., 1., 1., 1.,\n",
       "                      1., 1., 1., 1., 1., 1., 1., 1., 1., 1., 1., 1., 1., 1., 1., 1., 1., 1.,\n",
       "                      1., 1., 1., 1., 1., 1., 1., 1., 1., 1., 1., 1., 1., 1., 1., 1., 1., 1.,\n",
       "                      1., 1., 1., 1., 1., 1., 1., 1., 1., 1., 1., 1., 1., 1., 1., 1., 1., 1.,\n",
       "                      1., 1., 1., 1., 1., 1., 1., 1., 1., 1., 1., 1., 1., 1., 1., 1., 1., 1.,\n",
       "                      1., 1., 1., 1., 1., 1., 1., 1., 1., 1.])),\n",
       "             ('norm1.bias',\n",
       "              tensor([0., 0., 0., 0., 0., 0., 0., 0., 0., 0., 0., 0., 0., 0., 0., 0., 0., 0., 0., 0., 0., 0., 0., 0.,\n",
       "                      0., 0., 0., 0., 0., 0., 0., 0., 0., 0., 0., 0., 0., 0., 0., 0., 0., 0., 0., 0., 0., 0., 0., 0.,\n",
       "                      0., 0., 0., 0., 0., 0., 0., 0., 0., 0., 0., 0., 0., 0., 0., 0., 0., 0., 0., 0., 0., 0., 0., 0.,\n",
       "                      0., 0., 0., 0., 0., 0., 0., 0., 0., 0., 0., 0., 0., 0., 0., 0., 0., 0., 0., 0., 0., 0., 0., 0.,\n",
       "                      0., 0., 0., 0.])),\n",
       "             ('norm2.weight',\n",
       "              tensor([1., 1., 1., 1., 1., 1., 1., 1., 1., 1., 1., 1., 1., 1., 1., 1., 1., 1.,\n",
       "                      1., 1., 1., 1., 1., 1., 1., 1., 1., 1., 1., 1., 1., 1., 1., 1., 1., 1.,\n",
       "                      1., 1., 1., 1., 1., 1., 1., 1., 1., 1., 1., 1., 1., 1., 1., 1., 1., 1.,\n",
       "                      1., 1., 1., 1., 1., 1., 1., 1., 1., 1., 1., 1., 1., 1., 1., 1., 1., 1.,\n",
       "                      1., 1., 1., 1., 1., 1., 1., 1., 1., 1., 1., 1., 1., 1., 1., 1., 1., 1.,\n",
       "                      1., 1., 1., 1., 1., 1., 1., 1., 1., 1.])),\n",
       "             ('norm2.bias',\n",
       "              tensor([0., 0., 0., 0., 0., 0., 0., 0., 0., 0., 0., 0., 0., 0., 0., 0., 0., 0., 0., 0., 0., 0., 0., 0.,\n",
       "                      0., 0., 0., 0., 0., 0., 0., 0., 0., 0., 0., 0., 0., 0., 0., 0., 0., 0., 0., 0., 0., 0., 0., 0.,\n",
       "                      0., 0., 0., 0., 0., 0., 0., 0., 0., 0., 0., 0., 0., 0., 0., 0., 0., 0., 0., 0., 0., 0., 0., 0.,\n",
       "                      0., 0., 0., 0., 0., 0., 0., 0., 0., 0., 0., 0., 0., 0., 0., 0., 0., 0., 0., 0., 0., 0., 0., 0.,\n",
       "                      0., 0., 0., 0.]))])"
      ]
     },
     "execution_count": 715,
     "metadata": {},
     "output_type": "execute_result"
    }
   ],
   "source": [
    "encoder_layer = nn.TransformerEncoderLayer(d_model=100, nhead=2)\n",
    "encoder_layer.state_dict()"
   ]
  },
  {
   "cell_type": "code",
   "execution_count": 697,
   "metadata": {},
   "outputs": [],
   "source": [
    "import os\n",
    "from matplotlib import pyplot as plt "
   ]
  },
  {
   "cell_type": "code",
   "execution_count": 973,
   "metadata": {},
   "outputs": [],
   "source": [
    "file = 'nohup_prw_ohc_cluster.out'\n",
    "file = 'nohup_prw_sampler.out'\n",
    "# file = 'nohup_prw_ohc_hybrid.out'\n",
    "# file = 'nohup_baseline_prw.out'\n",
    "# file = 'nohup_prw_ohc_instance.out'\n",
    "file = './output/cuhkpedes/baseline_gru_rn50_ls_bs128/log.txt'\n",
    "file = './output/cuhkpedes/baseline_gru_cliprn50_ls_bs128_vit/log.txt'\n",
    "# file = './output/VIT/baseline_textvit_clipvit_ls_bs96_stride16/log.txt'\n",
    "# file = './nohup_baseline_textvit_clipvit_bs96_stride16_test_4.out'\n",
    "file = 'nohup_textvit_bs128_layer1.out'\n",
    "file = 'nohup_textvit_bs96_layer6_o.out'\n",
    "file = 'nohup_textvit_bs96_layer6_self_copy.out'\n",
    "file = 'nohup_share_layer12_bs64_fine.out'\n",
    "file = 'nohup_share_layer12_bs64_seed1_wofine_wd4e-4.out'\n",
    "# file = 'nohup_share_layer12_bs64_seed0_wofine.out'\n",
    "# file = 'nohup_share_layer12_bs64_fine_wmask_seed1_womaskupdate_warmupepoch0.out'\n",
    "# file = 'nohup_share_layer12_bs64_fine_wmask_seed1_maskupdate.out'"
   ]
  },
  {
   "cell_type": "code",
   "execution_count": 974,
   "metadata": {},
   "outputs": [],
   "source": [
    "with open(file) as f:\n",
    "    data = f.readlines()\n",
    "    "
   ]
  },
  {
   "cell_type": "code",
   "execution_count": 975,
   "metadata": {},
   "outputs": [],
   "source": [
    "epoch = 0\n",
    "Top1 = []\n",
    "Top5 = []\n",
    "Top10 = []\n",
    "\n",
    "for i, line in enumerate(data):\n",
    "    if '|      1 |' in line:\n",
    "        value = line.split('|')[-3]\n",
    "        value = float(value.split('%')[0])\n",
    "        Top1.append(value)\n",
    "    if '|      5 |' in line:\n",
    "        value = line.split('|')[-3]\n",
    "        value = float(value.split('%')[0])\n",
    "        Top5.append(value)\n",
    "    if '|     10 |' in line:\n",
    "        value = line.split('|')[-3]\n",
    "        value = float(value.split('%')[0])\n",
    "        Top10.append(value)\n",
    "        epoch += 1"
   ]
  },
  {
   "cell_type": "code",
   "execution_count": 976,
   "metadata": {
    "scrolled": false
   },
   "outputs": [
    {
     "data": {
      "text/plain": [
       "[0.129955,\n",
       " 0.0974659,\n",
       " 0.0649773,\n",
       " 0.146199,\n",
       " 1.47823,\n",
       " 10.0715,\n",
       " 15.9682,\n",
       " 17.4951,\n",
       " 22.9695,\n",
       " 24.7401,\n",
       " 29.3047,\n",
       " 32.2775,\n",
       " 35.6238,\n",
       " 38.6615,\n",
       " 39.8311,\n",
       " 43.9246,\n",
       " 45.744,\n",
       " 46.7349,\n",
       " 46.1826,\n",
       " 49.4152,\n",
       " 50.4224,\n",
       " 50.7472,\n",
       " 50.8609,\n",
       " 51.2671,\n",
       " 51.2995,\n",
       " 51.6894,\n",
       " 52.3879,\n",
       " 52.063,\n",
       " 53.8986,\n",
       " 52.924,\n",
       " 53.9961,\n",
       " 53.59,\n",
       " 54.8895,\n",
       " 54.4672,\n",
       " 54.2723,\n",
       " 55.4418,\n",
       " 54.5322,\n",
       " 55.2469,\n",
       " 54.321,\n",
       " 54.0611,\n",
       " 57.2612,\n",
       " 57.6836,\n",
       " 57.976,\n",
       " 58.4308,\n",
       " 58.5608,\n",
       " 58.7394,\n",
       " 58.7719,\n",
       " 58.1384,\n",
       " 58.1709,\n",
       " 58.4795,\n",
       " 58.1384,\n",
       " 58.1709,\n",
       " 58.4633,\n",
       " 57.9597,\n",
       " 58.3333,\n",
       " 57.7973,\n",
       " 58.2196,\n",
       " 57.8785,\n",
       " 57.9272,\n",
       " 58.447]"
      ]
     },
     "execution_count": 976,
     "metadata": {},
     "output_type": "execute_result"
    }
   ],
   "source": [
    "Top1"
   ]
  },
  {
   "cell_type": "code",
   "execution_count": 977,
   "metadata": {},
   "outputs": [],
   "source": [
    "Top11 = Top1\n",
    "Top51 = Top5\n",
    "Top101 = Top10"
   ]
  },
  {
   "cell_type": "code",
   "execution_count": 1045,
   "metadata": {},
   "outputs": [],
   "source": [
    "file = './nohup_baseline_gru_clipvit_ls_bs64_stride12.out'\n",
    "file = './output/VIT/baseline_textvit_clipvit_ls_bs96_stride16_layer6_self/log.txt'\n",
    "file = './nohup_baseline_textvit_clipvit_bs96_stride16_test_4.out'\n",
    "file = 'nohup_baseline_textvit_clipvit_bs96_stride16_layer6.out'\n",
    "file = 'nohup_textvit_bs128_layer1.out'\n",
    "file = 'nohup_textvit_bs96_layer6_self.out'\n",
    "file = './output/VIT/share_layer6_bs96_mask_pretrain/log.txt'\n",
    "file = 'nohup_share_layer6_bs96_drop_text.out'\n",
    "file = 'nohup_share_layer12_bs64_independ1.out'\n",
    "file = 'nohup_share_layer12_bs64_fine_wmask_seed1.out'\n",
    "file = 'nohup_share_layer12_bs64_fine_wmask_seed2.out'\n",
    "file = 'nohup_share_layer12_bs64_fine_back_4e-4.out'\n",
    "file = 'nohup_share_layer12_bs64_fine_wmask_seed1_womaskupdate.out'\n",
    "file = 'nohup_share_layer12_bs64_seed1_wofine.out'\n",
    "file = 'nohup_share_layer12_bs64_seed1_wofine_wd4e-4.out'\n",
    "file = 'nohup_share_layer12_bs64_seed1_wofine_wd4e-4_long.out'\n",
    "# file = 'nohup_share_layer12_bs64_seed1_wofine_wd4e-4_continue.out'\n",
    "# file = 'nohup_share_layer12_bs64_seed0_wofine_wd8e-4_real.out'\n",
    "# file = 'nohup_share_layer12_bs64_seed3_wofine_wd4e-4_long.out'\n",
    "# file = 'nohup_share_layer12_bs64_seed0_wofine_wd8e-5.out'\n",
    "# file = 'nohup_share_layer12_bs64_seed0_wofine_wd8e-4.out'\n",
    "# file = 'nohup_share_layer12_bs64_fine_wmask_seed1_womaskupdate_warmupepoch2.out'\n",
    "# file = 'nohup_share_layer12_bs64_fine_wmask_seed1_wd8e-5.out'\n",
    "# file = './output/VIT/share_layer6_bs84/log.txt'\n",
    "\n",
    "# file = 'nohup_textvit_bs96_layer6_self_update.out'\n",
    "# file = './nohup_baseline_gru_vit_ls_bs128_real.out'\n",
    "# file = 'nohup_textvit_bs96_layer6_self_norm_first.out'\n",
    "# file = 'nohup_textvit_bs96_layer6_self_v2.out'\n",
    "# file = 'nohup_textvit_bs96_layer6_self_copy.out'\n",
    "# file = 'nohup_textvit_copy.out'\n",
    "with open(file) as f:\n",
    "    data = f.readlines()\n",
    "epoch = 0\n",
    "Top1 = []\n",
    "Top5 = []\n",
    "Top10 = []\n",
    "\n",
    "for i, line in enumerate(data):\n",
    "    if '|      1 |' in line:\n",
    "        value = line.split('|')[-3]\n",
    "        value = float(value.split('%')[0])\n",
    "        Top1.append(value)\n",
    "    if '|      5 |' in line:\n",
    "        value = line.split('|')[-3]\n",
    "        value = float(value.split('%')[0])\n",
    "        Top5.append(value)\n",
    "    if '|     10 |' in line:\n",
    "        value = line.split('|')[-3]\n",
    "        value = float(value.split('%')[0])\n",
    "        Top10.append(value)\n",
    "        epoch += 1"
   ]
  },
  {
   "cell_type": "code",
   "execution_count": 1046,
   "metadata": {},
   "outputs": [
    {
     "data": {
      "text/plain": [
       "[0.129955,\n",
       " 0.0974659,\n",
       " 0.0649773,\n",
       " 0.146199,\n",
       " 1.47823,\n",
       " 10.0715,\n",
       " 15.9682,\n",
       " 17.4951,\n",
       " 22.9695,\n",
       " 24.7401,\n",
       " 29.3047,\n",
       " 32.2775,\n",
       " 35.6238,\n",
       " 38.6615,\n",
       " 39.8311,\n",
       " 43.9246,\n",
       " 45.744,\n",
       " 46.7349,\n",
       " 46.1826,\n",
       " 49.4152,\n",
       " 50.4224,\n",
       " 50.7472,\n",
       " 50.8609,\n",
       " 51.2671,\n",
       " 51.2995,\n",
       " 51.6894,\n",
       " 52.3879,\n",
       " 52.063,\n",
       " 53.8986,\n",
       " 52.924,\n",
       " 53.9961,\n",
       " 53.59,\n",
       " 54.8895,\n",
       " 54.4672,\n",
       " 54.2723,\n",
       " 55.4418,\n",
       " 54.5322,\n",
       " 55.2469,\n",
       " 54.321,\n",
       " 54.0611,\n",
       " 57.2612,\n",
       " 57.6836,\n",
       " 57.976,\n",
       " 58.4308,\n",
       " 58.5608,\n",
       " 58.7394,\n",
       " 58.7719,\n",
       " 58.1384,\n",
       " 58.1709,\n",
       " 58.4795,\n",
       " 58.4308,\n",
       " 58.4795,\n",
       " 58.3658,\n",
       " 58.512,\n",
       " 58.3983,\n",
       " 58.4633,\n",
       " 58.5932,\n",
       " 58.4958,\n",
       " 58.3171,\n",
       " 58.6907]"
      ]
     },
     "execution_count": 1046,
     "metadata": {},
     "output_type": "execute_result"
    }
   ],
   "source": [
    "Top1"
   ]
  },
  {
   "cell_type": "code",
   "execution_count": 1047,
   "metadata": {},
   "outputs": [
    {
     "data": {
      "image/png": "[encoded data removed]",
      "text/plain": [
       "<Figure size 432x288 with 1 Axes>"
      ]
     },
     "metadata": {
      "needs_background": "light"
     },
     "output_type": "display_data"
    }
   ],
   "source": [
    "x = [i for i in range(len(Top1))]\n",
    "x2 = [i for i in range(len(Top11))]\n",
    "# new\n",
    "plt.grid(linestyle='-.')\n",
    "plt.plot(x, Top1, 'r')\n",
    "# baseline\n",
    "plt.plot(x2, Top11, 'b')\n",
    "plt.show()\n",
    "# print('top1')\n",
    "# plt.grid(linestyle='-.')\n",
    "# plt.plot(x, Top1, 'r')\n",
    "# # plt.plot(x, Top11[:len(mAP)], 'b')\n",
    "# plt.show()"
   ]
  },
  {
   "cell_type": "code",
   "execution_count": 985,
   "metadata": {},
   "outputs": [
    {
     "data": {
      "text/plain": [
       "35.6238"
      ]
     },
     "execution_count": 985,
     "metadata": {},
     "output_type": "execute_result"
    }
   ],
   "source": [
    "Top11[12]"
   ]
  },
  {
   "cell_type": "code",
   "execution_count": 157,
   "metadata": {},
   "outputs": [
    {
     "data": {
      "text/plain": [
       "51.397"
      ]
     },
     "execution_count": 157,
     "metadata": {},
     "output_type": "execute_result"
    }
   ],
   "source": [
    "max(Top1)"
   ]
  },
  {
   "cell_type": "code",
   "execution_count": null,
   "metadata": {},
   "outputs": [],
   "source": []
  }
 ],
 "metadata": {
  "kernelspec": {
   "display_name": "Python 3",
   "language": "python",
   "name": "python3"
  },
  "language_info": {
   "codemirror_mode": {
    "name": "ipython",
    "version": 3
   },
   "file_extension": ".py",
   "mimetype": "text/x-python",
   "name": "python",
   "nbconvert_exporter": "python",
   "pygments_lexer": "ipython3",
   "version": "3.7.3"
  }
 },
 "nbformat": 4,
 "nbformat_minor": 5
}
