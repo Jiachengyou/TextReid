{
 "cells": [
  {
   "cell_type": "code",
   "execution_count": 469,
   "id": "15b9a864",
   "metadata": {},
   "outputs": [],
   "source": [
    "import os\n",
    "from matplotlib import pyplot as plt "
   ]
  },
  {
   "cell_type": "code",
   "execution_count": 470,
   "id": "49496e62",
   "metadata": {},
   "outputs": [],
   "source": [
    "file = 'nohup_prw_ohc_cluster.out'\n",
    "file = 'nohup_prw_sampler.out'\n",
    "# file = 'nohup_prw_ohc_hybrid.out'\n",
    "# file = 'nohup_baseline_prw.out'\n",
    "# file = 'nohup_prw_ohc_instance.out'\n",
    "file = './output/cuhkpedes/baseline_gru_rn50_ls_bs128/log.txt'\n",
    "file = './output/cuhkpedes/baseline_gru_cliprn50_ls_bs128_vit/log.txt'\n",
    "# file = './output/VIT/baseline_textvit_clipvit_ls_bs96_stride16/log.txt'\n",
    "# file = './nohup_baseline_textvit_clipvit_bs96_stride16_test_4.out'\n",
    "file = 'nohup_textvit_bs128_layer1.out'\n",
    "file = 'nohup_textvit_bs96_layer6_o.out'\n",
    "file = 'nohup_textvit_bs96_layer6_self_copy.out'\n",
    "file = 'nohup_share_layer12_bs64_fine.out'\n",
    "file = 'nohup_share_layer12_bs64_seed1_wofine_wd4e-4.out'\n",
    "file = './output/log.txt'\n",
    "file = 'nohup_share_layer12_bs64_seed1_wofine_wd4e-4_extra.out'\n",
    "file = 'nohup_declipvit_gru.out'\n",
    "file = 'nohup_baseline_clipvit_ls_bs64_stride16_clipvit16.out'\n",
    "file = 'nohup_baseline_clipvit_ls_bs64_stride16_clipvit32.out'\n",
    "file = 'nohup_share_layer12_bs64_seed0_wofine_wd4e-4_onehot.out'\n",
    "file = 'nohup_share_layer12_bs64_seed0_wofine_wd4e-4_new.out'\n",
    "file = 'nohup_share_layer12_bs64_seed0_wofine_wd4e-4_triplt_only.out'\n",
    "file = 'nohup_share_layer12_bs64_seed0_wofine_wd4e-4_triplt_align1.5.out'\n",
    "file = 'nohup_share_layer12_bs64_seed0_wofine_wd4e-4_fine_newbaseline.out'\n",
    "file = 'nohup_share_layer12_bs64_seed2_wofine_wd4e-4_fine_newbaseline.out'\n",
    "file = 'nohup_share_layer12_bs64_seed0_wofine_wd4e-4_fine_newbaseline_VisToTxt.out'\n",
    "# file = 'nohup_share_layer12_bs64_seed0_wofine.out'\n",
    "# file = 'nohup_share_layer12_bs64_fine_wmask_seed1_womaskupdate_warmupepoch0.out'\n",
    "# file = 'nohup_share_layer12_bs64_fine_wmask_seed1_maskupdate.out'"
   ]
  },
  {
   "cell_type": "code",
   "execution_count": 471,
   "id": "a3f9ebd8",
   "metadata": {},
   "outputs": [],
   "source": [
    "with open(file) as f:\n",
    "    data = f.readlines()\n",
    "    "
   ]
  },
  {
   "cell_type": "code",
   "execution_count": 472,
   "id": "735cf80c",
   "metadata": {},
   "outputs": [],
   "source": [
    "epoch = 0\n",
    "Top1 = []\n",
    "Top5 = []\n",
    "Top10 = []\n",
    "\n",
    "for i, line in enumerate(data):\n",
    "    if '|      1 |' in line:\n",
    "        value = line.split('|')[-3]\n",
    "        value = float(value.split('%')[0])\n",
    "        Top1.append(value)\n",
    "    if '|      5 |' in line:\n",
    "        value = line.split('|')[-3]\n",
    "        value = float(value.split('%')[0])\n",
    "        Top5.append(value)\n",
    "    if '|     10 |' in line:\n",
    "        value = line.split('|')[-3]\n",
    "        value = float(value.split('%')[0])\n",
    "        Top10.append(value)\n",
    "        epoch += 1"
   ]
  },
  {
   "cell_type": "code",
   "execution_count": 473,
   "id": "13f329e6",
   "metadata": {
    "scrolled": false
   },
   "outputs": [
    {
     "data": {
      "text/plain": [
       "[0.129955,\n",
       " 0.162443,\n",
       " 0.22742,\n",
       " 0.649773,\n",
       " 10.9974,\n",
       " 19.5744,\n",
       " 22.3522,\n",
       " 27.729,\n",
       " 29.9383,\n",
       " 33.1384,\n",
       " 34.6329,\n",
       " 38.6452,\n",
       " 40.026,\n",
       " 43.8434,\n",
       " 46.4912,\n",
       " 45.4678,\n",
       " 46.5724,\n",
       " 47.1572,\n",
       " 49.8213,\n",
       " 49.9025,\n",
       " 51.0559,\n",
       " 50.4386,\n",
       " 51.0071,\n",
       " 51.2346,\n",
       " 51.9981,\n",
       " 53.0702,\n",
       " 52.8915,\n",
       " 53.6062,\n",
       " 53.2976,\n",
       " 54.4022,\n",
       " 54.2885,\n",
       " 53.9474,\n",
       " 54.7433,\n",
       " 55.1819,\n",
       " 53.655,\n",
       " 55.1332,\n",
       " 55.3769,\n",
       " 55.2794,\n",
       " 55.1494,\n",
       " 55.1332,\n",
       " 58.1709,\n",
       " 58.3821,\n",
       " 58.5608,\n",
       " 59.243,\n",
       " 59.4055,\n",
       " 59.308,\n",
       " 59.4217,\n",
       " 59.7303,\n",
       " 59.2593,\n",
       " 59.7466,\n",
       " 59.7628,\n",
       " 59.974,\n",
       " 59.9253,\n",
       " 59.8928,\n",
       " 59.8441,\n",
       " 59.9253,\n",
       " 59.8278,\n",
       " 59.974,\n",
       " 59.9902,\n",
       " 59.9902]"
      ]
     },
     "execution_count": 473,
     "metadata": {},
     "output_type": "execute_result"
    }
   ],
   "source": [
    "Top1"
   ]
  },
  {
   "cell_type": "code",
   "execution_count": 474,
   "id": "ce4eebd0",
   "metadata": {},
   "outputs": [],
   "source": [
    "Top11 = Top1\n",
    "Top51 = Top5\n",
    "Top101 = Top10"
   ]
  },
  {
   "cell_type": "code",
   "execution_count": 483,
   "id": "c767a2e9",
   "metadata": {},
   "outputs": [],
   "source": [
    "file = './nohup_baseline_gru_clipvit_ls_bs64_stride12.out'\n",
    "file = './output/VIT/baseline_textvit_clipvit_ls_bs96_stride16_layer6_self/log.txt'\n",
    "file = './nohup_baseline_textvit_clipvit_bs96_stride16_test_4.out'\n",
    "file = 'nohup_baseline_textvit_clipvit_bs96_stride16_layer6.out'\n",
    "file = 'nohup_textvit_bs128_layer1.out'\n",
    "file = 'nohup_textvit_bs96_layer6_self.out'\n",
    "file = './output/VIT/share_layer6_bs96_mask_pretrain/log.txt'\n",
    "file = 'nohup_share_layer6_bs96_drop_text.out'\n",
    "file = 'nohup_share_layer12_bs64_independ1.out'\n",
    "file = 'nohup_share_layer12_bs64_fine_wmask_seed1.out'\n",
    "file = 'nohup_share_layer12_bs64_fine_wmask_seed2.out'\n",
    "file = 'nohup_share_layer12_bs64_fine_back_4e-4.out'\n",
    "file = 'nohup_share_layer12_bs64_fine_wmask_seed1_womaskupdate.out'\n",
    "file = 'nohup_share_layer12_bs64_seed1_wofine.out'\n",
    "file = 'nohup_share_layer12_bs64_seed1_wofine_wd4e-4.out'\n",
    "file = 'nohup_share_layer12_bs64_seed1_wofine_wd4e-4_long.out'\n",
    "file = 'nohup_share_layer12_bs64_seed0_wofine_wd4e-4_new_norm.out'\n",
    "file = 'nohup_share_layer12_bs64_seed0_wofine_wd4e-4_triplt_continue.out'\n",
    "file = 'nohup_baseline_clipvit_ls_bs64_stride16_vit32_position_wd4e-5.out'\n",
    "file = 'nohup_baseline_clipvit_textvit_ls_bs64_stride16_layer6.out'\n",
    "file = 'nohup_share_layer12_bs64_seed0_wofine_wd4e-4_triplt_only.out'\n",
    "file = 'nohup_share_layer12_bs64_seed0_wofine_wd4e-4_triplt_align1.5.out'\n",
    "file = 'nohup_share_layer12_bs64_seed0_wofine_wd4e-4_triplt_align2.out'\n",
    "file = 'nohup_share_layer12_bs64_seed1_wofine_wd4e-4_triplt_align1.5.out'\n",
    "file = 'nohup_share_layer12_bs64_seed0_wofine_wd4e-4_fine_newbaseline_VisToTxt.out'\n",
    "file = 'nohup_share_layer12_bs64_seed0_wofine_wd4e-4_txttovis_vistotxt.out'\n",
    "file = 'nohup_share_layer12_bs64_seed2_wofine_wd4e-4_fine_newbaseline.out'\n",
    "file = 'nohup_share_layer12_bs64_seed0_wofine_wd4e-4_fine_vistotxt0.5.out'\n",
    "file = 'nohup_share_layer12_bs64_seed0_real_wofine_wd4e-4_fine_vistotxt0.25.out'\n",
    "# file = 'nohup_share_layer12_bs64_seed0_wofine_wd4e-4_instance_textproject.out'\n",
    "# file = 'nohup_share_layer12_bs64_seed0_wofine_wd4e-4_instance0.5_triplt0.5.out'\n",
    "# file = 'nohup_baseline_clipvit_ls_bs64_stride16_ViT-B-32.out'\n",
    "# file = 'nohup_share_layer12_bs64_seed0_wofine_wd4e-4_textwoencoder.out'\n",
    "# file = 'nohup_share_layer12_bs64_seed0_wofine_wd4e-4_onehot.out'\n",
    "# file = 'nohup_share_layer12_bs64_seed1_wofine_wd4e-4_continue.out'\n",
    "# file = 'nohup_share_layer12_bs64_seed0_wofine_wd8e-4_real.out'\n",
    "# file = 'nohup_share_layer12_bs64_seed3_wofine_wd4e-4_long.out'\n",
    "# file = 'nohup_share_layer12_bs64_seed0_wofine_wd8e-5.out'\n",
    "# file = 'nohup_share_layer12_bs64_seed0_wofine_wd8e-4.out'\n",
    "# file = 'nohup_share_layer12_bs64_fine_wmask_seed1_womaskupdate_warmupepoch2.out'\n",
    "# file = 'nohup_share_layer12_bs64_fine_wmask_seed1_wd8e-5.out'\n",
    "# file = './output/VIT/share_layer6_bs84/log.txt'\n",
    "\n",
    "# file = 'nohup_textvit_bs96_layer6_self_update.out'\n",
    "# file = './nohup_baseline_gru_vit_ls_bs128_real.out'\n",
    "# file = 'nohup_textvit_bs96_layer6_self_norm_first.out'\n",
    "# file = 'nohup_textvit_bs96_layer6_self_v2.out'\n",
    "# file = 'nohup_textvit_bs96_layer6_self_copy.out'\n",
    "# file = 'nohup_textvit_copy.out'\n",
    "with open(file) as f:\n",
    "    data = f.readlines()\n",
    "epoch = 0\n",
    "Top1 = []\n",
    "Top5 = []\n",
    "Top10 = []\n",
    "\n",
    "for i, line in enumerate(data):\n",
    "    if '|      1 |' in line:\n",
    "        value = line.split('|')[-3]\n",
    "        value = float(value.split('%')[0])\n",
    "        Top1.append(value)\n",
    "    if '|      5 |' in line:\n",
    "        value = line.split('|')[-3]\n",
    "        value = float(value.split('%')[0])\n",
    "        Top5.append(value)\n",
    "    if '|     10 |' in line:\n",
    "        value = line.split('|')[-3]\n",
    "        value = float(value.split('%')[0])\n",
    "        Top10.append(value)\n",
    "        epoch += 1"
   ]
  },
  {
   "cell_type": "code",
   "execution_count": 484,
   "id": "cc8f1e21",
   "metadata": {},
   "outputs": [],
   "source": [
    "# Top1 = Top1_o + Top1"
   ]
  },
  {
   "cell_type": "code",
   "execution_count": 488,
   "id": "d13e7c00",
   "metadata": {},
   "outputs": [
    {
     "data": {
      "text/plain": [
       "[0.129955,\n",
       " 0.0649773,\n",
       " 0.129955,\n",
       " 0.211176,\n",
       " 0.779727,\n",
       " 13.1579,\n",
       " 18.5835,\n",
       " 24.2365,\n",
       " 28.46,\n",
       " 30.6043,\n",
       " 32.5699,\n",
       " 36.7934,\n",
       " 36.4685,\n",
       " 40.8707,\n",
       " 43.7297,\n",
       " 44.4932,\n",
       " 46.3775,\n",
       " 47.2385,\n",
       " 48.5705,\n",
       " 48.9279,\n",
       " 48.8467,\n",
       " 49.9838,\n",
       " 50.9747,\n",
       " 52.1767,\n",
       " 51.332,\n",
       " 52.924,\n",
       " 53.0052,\n",
       " 52.0793,\n",
       " 52.3554,\n",
       " 53.2001,\n",
       " 54.7109,\n",
       " 55.2794,\n",
       " 54.321,\n",
       " 54.9708,\n",
       " 54.0448,\n",
       " 53.8499,\n",
       " 55.1332,\n",
       " 54.6134,\n",
       " 54.9708,\n",
       " 54.9545,\n",
       " 58.1871,\n",
       " 58.8369,\n",
       " 58.9831,\n",
       " 59.2593,\n",
       " 59.2593,\n",
       " 59.3405,\n",
       " 59.3405,\n",
       " 59.2755,\n",
       " 59.2268,\n",
       " 59.4542,\n",
       " 59.5192,\n",
       " 59.6004,\n",
       " 59.7141,\n",
       " 59.7141,\n",
       " 59.6654,\n",
       " 59.6166,\n",
       " 59.7791,\n",
       " 59.7141,\n",
       " 59.7953,\n",
       " 59.7466]"
      ]
     },
     "execution_count": 488,
     "metadata": {},
     "output_type": "execute_result"
    }
   ],
   "source": [
    "Top1"
   ]
  },
  {
   "cell_type": "code",
   "execution_count": 486,
   "id": "daa0b6c6",
   "metadata": {},
   "outputs": [
    {
     "data": {
      "image/png": "[encoded data removed]",
      "text/plain": [
       "<Figure size 432x288 with 1 Axes>"
      ]
     },
     "metadata": {
      "needs_background": "light"
     },
     "output_type": "display_data"
    }
   ],
   "source": [
    "x = [i for i in range(len(Top1))]\n",
    "x2 = [i for i in range(len(Top11))]\n",
    "# new\n",
    "plt.grid(linestyle='-.')\n",
    "plt.plot(x, Top1, 'r')\n",
    "# baseline\n",
    "plt.plot(x2, Top11, 'b')\n",
    "plt.show()\n",
    "# print('top1')\n",
    "# plt.grid(linestyle='-.')\n",
    "# plt.plot(x, Top1, 'r')\n",
    "# # plt.plot(x, Top11[:len(mAP)], 'b')\n",
    "# plt.show()"
   ]
  },
  {
   "cell_type": "code",
   "execution_count": 439,
   "id": "fbcdc014",
   "metadata": {},
   "outputs": [
    {
     "data": {
      "text/plain": [
       "40.026"
      ]
     },
     "execution_count": 439,
     "metadata": {},
     "output_type": "execute_result"
    }
   ],
   "source": [
    "Top11[12]"
   ]
  },
  {
   "cell_type": "code",
   "execution_count": 440,
   "id": "0226534a",
   "metadata": {},
   "outputs": [
    {
     "data": {
      "text/plain": [
       "59.8765"
      ]
     },
     "execution_count": 440,
     "metadata": {},
     "output_type": "execute_result"
    }
   ],
   "source": [
    "max(Top1)"
   ]
  },
  {
   "cell_type": "code",
   "execution_count": 67,
   "id": "5d28ba60",
   "metadata": {},
   "outputs": [],
   "source": [
    "Top1_o = Top1"
   ]
  }
 ],
 "metadata": {
  "kernelspec": {
   "display_name": "Python 3 (ipykernel)",
   "language": "python",
   "name": "python3"
  },
  "language_info": {
   "codemirror_mode": {
    "name": "ipython",
    "version": 3
   },
   "file_extension": ".py",
   "mimetype": "text/x-python",
   "name": "python",
   "nbconvert_exporter": "python",
   "pygments_lexer": "ipython3",
   "version": "3.7.11"
  }
 },
 "nbformat": 4,
 "nbformat_minor": 5
}
