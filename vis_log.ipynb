{
 "cells": [
  {
   "cell_type": "code",
   "execution_count": 428,
   "metadata": {},
   "outputs": [
    {
     "ename": "TypeError",
     "evalue": "expected Tensor as element 0 in argument 0, but got int",
     "output_type": "error",
     "traceback": [
      "\u001b[0;31m---------------------------------------------------------------------------\u001b[0m",
      "\u001b[0;31mTypeError\u001b[0m                                 Traceback (most recent call last)",
      "\u001b[0;32m<ipython-input-428-187a0b292257>\u001b[0m in \u001b[0;36m<module>\u001b[0;34m\u001b[0m\n\u001b[1;32m      1\u001b[0m \u001b[0;32mimport\u001b[0m \u001b[0mtorch\u001b[0m\u001b[0;34m\u001b[0m\u001b[0;34m\u001b[0m\u001b[0m\n\u001b[0;32m----> 2\u001b[0;31m \u001b[0mtorch\u001b[0m\u001b[0;34m.\u001b[0m\u001b[0mcat\u001b[0m\u001b[0;34m(\u001b[0m\u001b[0;34m[\u001b[0m\u001b[0;36m1\u001b[0m\u001b[0;34m,\u001b[0m \u001b[0;36m2\u001b[0m\u001b[0;34m]\u001b[0m\u001b[0;34m)\u001b[0m\u001b[0;34m\u001b[0m\u001b[0;34m\u001b[0m\u001b[0m\n\u001b[0m",
      "\u001b[0;31mTypeError\u001b[0m: expected Tensor as element 0 in argument 0, but got int"
     ]
    }
   ],
   "source": [
    "import torch\n",
    "torch.cat([1, 2])"
   ]
  },
  {
   "cell_type": "code",
   "execution_count": 267,
   "metadata": {},
   "outputs": [],
   "source": [
    "a = [1,2,3]\n",
    "a[-2:]\n",
    "assert True, 1"
   ]
  },
  {
   "cell_type": "code",
   "execution_count": 105,
   "metadata": {},
   "outputs": [],
   "source": [
    "import torch.nn as nn\n",
    "encoder_layer = nn.TransformerEncoderLayer(d_model=100, nhead=2)"
   ]
  },
  {
   "cell_type": "code",
   "execution_count": 106,
   "metadata": {},
   "outputs": [
    {
     "ename": "ModuleAttributeError",
     "evalue": "'TransformerEncoderLayer' object has no attribute 'norm_first'",
     "output_type": "error",
     "traceback": [
      "\u001b[0;31m---------------------------------------------------------------------------\u001b[0m",
      "\u001b[0;31mModuleAttributeError\u001b[0m                      Traceback (most recent call last)",
      "\u001b[0;32m<ipython-input-106-75c60324634f>\u001b[0m in \u001b[0;36m<module>\u001b[0;34m\u001b[0m\n\u001b[0;32m----> 1\u001b[0;31m \u001b[0mencoder_layer\u001b[0m\u001b[0;34m.\u001b[0m\u001b[0mnorm_first\u001b[0m\u001b[0;34m\u001b[0m\u001b[0;34m\u001b[0m\u001b[0m\n\u001b[0m",
      "\u001b[0;32m/opt/anaconda3/lib/python3.7/site-packages/torch/nn/modules/module.py\u001b[0m in \u001b[0;36m__getattr__\u001b[0;34m(self, name)\u001b[0m\n\u001b[1;32m    777\u001b[0m                 \u001b[0;32mreturn\u001b[0m \u001b[0mmodules\u001b[0m\u001b[0;34m[\u001b[0m\u001b[0mname\u001b[0m\u001b[0;34m]\u001b[0m\u001b[0;34m\u001b[0m\u001b[0;34m\u001b[0m\u001b[0m\n\u001b[1;32m    778\u001b[0m         raise ModuleAttributeError(\"'{}' object has no attribute '{}'\".format(\n\u001b[0;32m--> 779\u001b[0;31m             type(self).__name__, name))\n\u001b[0m\u001b[1;32m    780\u001b[0m \u001b[0;34m\u001b[0m\u001b[0m\n\u001b[1;32m    781\u001b[0m     \u001b[0;32mdef\u001b[0m \u001b[0m__setattr__\u001b[0m\u001b[0;34m(\u001b[0m\u001b[0mself\u001b[0m\u001b[0;34m,\u001b[0m \u001b[0mname\u001b[0m\u001b[0;34m:\u001b[0m \u001b[0mstr\u001b[0m\u001b[0;34m,\u001b[0m \u001b[0mvalue\u001b[0m\u001b[0;34m:\u001b[0m \u001b[0mUnion\u001b[0m\u001b[0;34m[\u001b[0m\u001b[0mTensor\u001b[0m\u001b[0;34m,\u001b[0m \u001b[0;34m'Module'\u001b[0m\u001b[0;34m]\u001b[0m\u001b[0;34m)\u001b[0m \u001b[0;34m->\u001b[0m \u001b[0;32mNone\u001b[0m\u001b[0;34m:\u001b[0m\u001b[0;34m\u001b[0m\u001b[0;34m\u001b[0m\u001b[0m\n",
      "\u001b[0;31mModuleAttributeError\u001b[0m: 'TransformerEncoderLayer' object has no attribute 'norm_first'"
     ]
    }
   ],
   "source": [
    "encoder_layer.norm_first "
   ]
  },
  {
   "cell_type": "code",
   "execution_count": 107,
   "metadata": {},
   "outputs": [],
   "source": [
    "import os\n",
    "from matplotlib import pyplot as plt "
   ]
  },
  {
   "cell_type": "code",
   "execution_count": 479,
   "metadata": {},
   "outputs": [],
   "source": [
    "file = 'nohup_prw_ohc_cluster.out'\n",
    "file = 'nohup_prw_sampler.out'\n",
    "# file = 'nohup_prw_ohc_hybrid.out'\n",
    "# file = 'nohup_baseline_prw.out'\n",
    "# file = 'nohup_prw_ohc_instance.out'\n",
    "file = './output/cuhkpedes/baseline_gru_rn50_ls_bs128/log.txt'\n",
    "file = './output/cuhkpedes/baseline_gru_cliprn50_ls_bs128_vit/log.txt'\n",
    "# file = './output/VIT/baseline_textvit_clipvit_ls_bs96_stride16/log.txt'\n",
    "# file = './nohup_baseline_textvit_clipvit_bs96_stride16_test_4.out'\n",
    "file = 'nohup_textvit_bs128_layer1.out'\n",
    "file = 'nohup_textvit_bs96_layer6_o.out'\n",
    "file = 'nohup_textvit_bs96_layer6_self_copy.out'\n",
    "file = 'nohup_share_layer12_bs64_fine.out'"
   ]
  },
  {
   "cell_type": "code",
   "execution_count": 480,
   "metadata": {},
   "outputs": [],
   "source": [
    "with open(file) as f:\n",
    "    data = f.readlines()\n",
    "    "
   ]
  },
  {
   "cell_type": "code",
   "execution_count": 481,
   "metadata": {},
   "outputs": [],
   "source": [
    "epoch = 0\n",
    "Top1 = []\n",
    "Top5 = []\n",
    "Top10 = []\n",
    "\n",
    "for i, line in enumerate(data):\n",
    "    if '|      1 |' in line:\n",
    "        value = line.split('|')[-3]\n",
    "        value = float(value.split('%')[0])\n",
    "        Top1.append(value)\n",
    "    if '|      5 |' in line:\n",
    "        value = line.split('|')[-3]\n",
    "        value = float(value.split('%')[0])\n",
    "        Top5.append(value)\n",
    "    if '|     10 |' in line:\n",
    "        value = line.split('|')[-3]\n",
    "        value = float(value.split('%')[0])\n",
    "        Top10.append(value)\n",
    "        epoch += 1"
   ]
  },
  {
   "cell_type": "code",
   "execution_count": 486,
   "metadata": {},
   "outputs": [
    {
     "data": {
      "text/plain": [
       "49.1066"
      ]
     },
     "execution_count": 486,
     "metadata": {},
     "output_type": "execute_result"
    }
   ],
   "source": [
    "Top1[23]"
   ]
  },
  {
   "cell_type": "code",
   "execution_count": 465,
   "metadata": {},
   "outputs": [],
   "source": [
    "Top11 = Top1\n",
    "Top51 = Top5\n",
    "Top101 = Top10"
   ]
  },
  {
   "cell_type": "code",
   "execution_count": 487,
   "metadata": {},
   "outputs": [],
   "source": [
    "file = './nohup_baseline_gru_clipvit_ls_bs64_stride12.out'\n",
    "file = './output/VIT/baseline_textvit_clipvit_ls_bs96_stride16_layer6_self/log.txt'\n",
    "file = './nohup_baseline_textvit_clipvit_bs96_stride16_test_4.out'\n",
    "file = 'nohup_baseline_textvit_clipvit_bs96_stride16_layer6.out'\n",
    "file = 'nohup_textvit_bs128_layer1.out'\n",
    "file = 'nohup_textvit_bs96_layer6_self.out'\n",
    "file = './output/VIT/share_layer6_bs96_mask_pretrain/log.txt'\n",
    "file = 'nohup_share_layer6_bs96_drop_text.out'\n",
    "file = 'nohup_share_layer12_bs64_independ1.out'\n",
    "file = 'nohup_share_layer12_bs64_fine.out'\n",
    "file = 'nohup_share_layer12_bs64_fine_mask_v0.out'\n",
    "# file = './output/VIT/share_layer6_bs84/log.txt'\n",
    "\n",
    "# file = 'nohup_textvit_bs96_layer6_self_update.out'\n",
    "# file = './nohup_baseline_gru_vit_ls_bs128_real.out'\n",
    "# file = 'nohup_textvit_bs96_layer6_self_norm_first.out'\n",
    "# file = 'nohup_textvit_bs96_layer6_self_v2.out'\n",
    "# file = 'nohup_textvit_bs96_layer6_self_copy.out'\n",
    "# file = 'nohup_textvit_copy.out'\n",
    "with open(file) as f:\n",
    "    data = f.readlines()\n",
    "epoch = 0\n",
    "Top1 = []\n",
    "Top5 = []\n",
    "Top10 = []\n",
    "\n",
    "for i, line in enumerate(data):\n",
    "    if '|      1 |' in line:\n",
    "        value = line.split('|')[-3]\n",
    "        value = float(value.split('%')[0])\n",
    "        Top1.append(value)\n",
    "    if '|      5 |' in line:\n",
    "        value = line.split('|')[-3]\n",
    "        value = float(value.split('%')[0])\n",
    "        Top5.append(value)\n",
    "    if '|     10 |' in line:\n",
    "        value = line.split('|')[-3]\n",
    "        value = float(value.split('%')[0])\n",
    "        Top10.append(value)\n",
    "        epoch += 1"
   ]
  },
  {
   "cell_type": "code",
   "execution_count": 488,
   "metadata": {},
   "outputs": [
    {
     "data": {
      "text/plain": [
       "[0.0974659,\n",
       " 0.0974659,\n",
       " 0.129955,\n",
       " 0.0974659,\n",
       " 0.0974659,\n",
       " 0.0974659,\n",
       " 0.341131,\n",
       " 1.31579,\n",
       " 4.84081,\n",
       " 9.37297,\n",
       " 15.3671,\n",
       " 20.2567,\n",
       " 22.6283,\n",
       " 25.4224,\n",
       " 30.2307,\n",
       " 31.4815,\n",
       " 34.6816,\n",
       " 37.7518,\n",
       " 39.3275,\n",
       " 40.757,\n",
       " 42.6738,\n",
       " 42.8525,\n",
       " 44.0546,\n",
       " 45.3866,\n",
       " 45.5328,\n",
       " 46.0201,\n",
       " 46.6862,\n",
       " 48.4893,\n",
       " 48.1644,\n",
       " 49.4964,\n",
       " 48.7167,\n",
       " 50.1949,\n",
       " 49.5452,\n",
       " 50.8772,\n",
       " 50.666,\n",
       " 53.7849,\n",
       " 54.4184,\n",
       " 55.052,\n",
       " 54.7433,\n",
       " 54.9545,\n",
       " 54.9545,\n",
       " 55.117,\n",
       " 55.1494,\n",
       " 55.4743,\n",
       " 55.4094,\n",
       " 55.3606,\n",
       " 55.5231,\n",
       " 55.3119,\n",
       " 55.2632,\n",
       " 55.1494]"
      ]
     },
     "execution_count": 488,
     "metadata": {},
     "output_type": "execute_result"
    }
   ],
   "source": [
    "Top1"
   ]
  },
  {
   "cell_type": "code",
   "execution_count": 489,
   "metadata": {},
   "outputs": [
    {
     "data": {
      "image/png": "[encoded data removed]",
      "text/plain": [
       "<Figure size 432x288 with 1 Axes>"
      ]
     },
     "metadata": {
      "needs_background": "light"
     },
     "output_type": "display_data"
    },
    {
     "name": "stdout",
     "output_type": "stream",
     "text": [
      "top1\n"
     ]
    }
   ],
   "source": [
    "x = [i for i in range(len(Top1))]\n",
    "x2 = [i for i in range(len(Top11))]\n",
    "# new\n",
    "plt.grid(linestyle='-.')\n",
    "plt.plot(x, Top1, 'r')\n",
    "# baseline\n",
    "plt.plot(x2, Top11, 'b')\n",
    "plt.show()\n",
    "print('top1')\n",
    "# plt.grid(linestyle='-.')\n",
    "# plt.plot(x, Top1, 'r')\n",
    "# # plt.plot(x, Top11[:len(mAP)], 'b')\n",
    "# plt.show()"
   ]
  },
  {
   "cell_type": "code",
   "execution_count": 226,
   "metadata": {},
   "outputs": [
    {
     "data": {
      "text/plain": [
       "50.1949"
      ]
     },
     "execution_count": 226,
     "metadata": {},
     "output_type": "execute_result"
    }
   ],
   "source": [
    "Top11[15]"
   ]
  },
  {
   "cell_type": "code",
   "execution_count": 157,
   "metadata": {},
   "outputs": [
    {
     "data": {
      "text/plain": [
       "51.397"
      ]
     },
     "execution_count": 157,
     "metadata": {},
     "output_type": "execute_result"
    }
   ],
   "source": [
    "max(Top1)"
   ]
  },
  {
   "cell_type": "code",
   "execution_count": null,
   "metadata": {},
   "outputs": [],
   "source": []
  }
 ],
 "metadata": {
  "kernelspec": {
   "display_name": "Python 3",
   "language": "python",
   "name": "python3"
  },
  "language_info": {
   "codemirror_mode": {
    "name": "ipython",
    "version": 3
   },
   "file_extension": ".py",
   "mimetype": "text/x-python",
   "name": "python",
   "nbconvert_exporter": "python",
   "pygments_lexer": "ipython3",
   "version": "3.7.3"
  }
 },
 "nbformat": 4,
 "nbformat_minor": 5
}
