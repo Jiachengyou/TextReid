{
 "cells": [
  {
   "cell_type": "code",
   "execution_count": 267,
   "metadata": {},
   "outputs": [],
   "source": [
    "a = [1,2,3]\n",
    "a[-2:]\n",
    "assert True, 1"
   ]
  },
  {
   "cell_type": "code",
   "execution_count": 105,
   "metadata": {},
   "outputs": [],
   "source": [
    "import torch.nn as nn\n",
    "encoder_layer = nn.TransformerEncoderLayer(d_model=100, nhead=2)"
   ]
  },
  {
   "cell_type": "code",
   "execution_count": 106,
   "metadata": {},
   "outputs": [
    {
     "ename": "ModuleAttributeError",
     "evalue": "'TransformerEncoderLayer' object has no attribute 'norm_first'",
     "output_type": "error",
     "traceback": [
      "\u001b[0;31m---------------------------------------------------------------------------\u001b[0m",
      "\u001b[0;31mModuleAttributeError\u001b[0m                      Traceback (most recent call last)",
      "\u001b[0;32m<ipython-input-106-75c60324634f>\u001b[0m in \u001b[0;36m<module>\u001b[0;34m\u001b[0m\n\u001b[0;32m----> 1\u001b[0;31m \u001b[0mencoder_layer\u001b[0m\u001b[0;34m.\u001b[0m\u001b[0mnorm_first\u001b[0m\u001b[0;34m\u001b[0m\u001b[0;34m\u001b[0m\u001b[0m\n\u001b[0m",
      "\u001b[0;32m/opt/anaconda3/lib/python3.7/site-packages/torch/nn/modules/module.py\u001b[0m in \u001b[0;36m__getattr__\u001b[0;34m(self, name)\u001b[0m\n\u001b[1;32m    777\u001b[0m                 \u001b[0;32mreturn\u001b[0m \u001b[0mmodules\u001b[0m\u001b[0;34m[\u001b[0m\u001b[0mname\u001b[0m\u001b[0;34m]\u001b[0m\u001b[0;34m\u001b[0m\u001b[0;34m\u001b[0m\u001b[0m\n\u001b[1;32m    778\u001b[0m         raise ModuleAttributeError(\"'{}' object has no attribute '{}'\".format(\n\u001b[0;32m--> 779\u001b[0;31m             type(self).__name__, name))\n\u001b[0m\u001b[1;32m    780\u001b[0m \u001b[0;34m\u001b[0m\u001b[0m\n\u001b[1;32m    781\u001b[0m     \u001b[0;32mdef\u001b[0m \u001b[0m__setattr__\u001b[0m\u001b[0;34m(\u001b[0m\u001b[0mself\u001b[0m\u001b[0;34m,\u001b[0m \u001b[0mname\u001b[0m\u001b[0;34m:\u001b[0m \u001b[0mstr\u001b[0m\u001b[0;34m,\u001b[0m \u001b[0mvalue\u001b[0m\u001b[0;34m:\u001b[0m \u001b[0mUnion\u001b[0m\u001b[0;34m[\u001b[0m\u001b[0mTensor\u001b[0m\u001b[0;34m,\u001b[0m \u001b[0;34m'Module'\u001b[0m\u001b[0;34m]\u001b[0m\u001b[0;34m)\u001b[0m \u001b[0;34m->\u001b[0m \u001b[0;32mNone\u001b[0m\u001b[0;34m:\u001b[0m\u001b[0;34m\u001b[0m\u001b[0;34m\u001b[0m\u001b[0m\n",
      "\u001b[0;31mModuleAttributeError\u001b[0m: 'TransformerEncoderLayer' object has no attribute 'norm_first'"
     ]
    }
   ],
   "source": [
    "encoder_layer.norm_first "
   ]
  },
  {
   "cell_type": "code",
   "execution_count": 107,
   "metadata": {},
   "outputs": [],
   "source": [
    "import os\n",
    "from matplotlib import pyplot as plt "
   ]
  },
  {
   "cell_type": "code",
   "execution_count": 249,
   "metadata": {},
   "outputs": [],
   "source": [
    "file = 'nohup_prw_ohc_cluster.out'\n",
    "file = 'nohup_prw_sampler.out'\n",
    "# file = 'nohup_prw_ohc_hybrid.out'\n",
    "# file = 'nohup_baseline_prw.out'\n",
    "# file = 'nohup_prw_ohc_instance.out'\n",
    "file = './output/cuhkpedes/baseline_gru_rn50_ls_bs128/log.txt'\n",
    "file = './output/cuhkpedes/baseline_gru_cliprn50_ls_bs128_vit/log.txt'\n",
    "# file = './output/VIT/baseline_textvit_clipvit_ls_bs96_stride16/log.txt'\n",
    "# file = './nohup_baseline_textvit_clipvit_bs96_stride16_test_4.out'\n",
    "file = 'nohup_textvit_bs128_layer1.out'\n",
    "file = 'nohup_textvit_bs96_layer6_o.out'\n",
    "file = 'nohup_textvit_bs96_layer6_self_copy.out'"
   ]
  },
  {
   "cell_type": "code",
   "execution_count": 250,
   "metadata": {},
   "outputs": [],
   "source": [
    "with open(file) as f:\n",
    "    data = f.readlines()\n",
    "    "
   ]
  },
  {
   "cell_type": "code",
   "execution_count": 251,
   "metadata": {},
   "outputs": [],
   "source": [
    "epoch = 0\n",
    "Top1 = []\n",
    "Top5 = []\n",
    "Top10 = []\n",
    "\n",
    "for i, line in enumerate(data):\n",
    "    if '|      1 |' in line:\n",
    "        value = line.split('|')[-3]\n",
    "        value = float(value.split('%')[0])\n",
    "        Top1.append(value)\n",
    "    if '|      5 |' in line:\n",
    "        value = line.split('|')[-3]\n",
    "        value = float(value.split('%')[0])\n",
    "        Top5.append(value)\n",
    "    if '|     10 |' in line:\n",
    "        value = line.split('|')[-3]\n",
    "        value = float(value.split('%')[0])\n",
    "        Top10.append(value)\n",
    "        epoch += 1"
   ]
  },
  {
   "cell_type": "code",
   "execution_count": 270,
   "metadata": {},
   "outputs": [
    {
     "data": {
      "text/plain": [
       "[0.162443,\n",
       " 1.20208,\n",
       " 9.01559,\n",
       " 17.5926,\n",
       " 23.5543,\n",
       " 26.4295,\n",
       " 31.5302,\n",
       " 34.9903,\n",
       " 39.5712,\n",
       " 41.293,\n",
       " 45.614,\n",
       " 48.3431,\n",
       " 50.1624,\n",
       " 49.87,\n",
       " 52.5828,\n",
       " 52.794,\n",
       " 53.1514,\n",
       " 52.989,\n",
       " 54.1585,\n",
       " 55.653,\n",
       " 54.6296,\n",
       " 55.7667,\n",
       " 56.0104,\n",
       " 56.4815,\n",
       " 55.6855,\n",
       " 55.0195,\n",
       " 54.8408,\n",
       " 56.1566,\n",
       " 56.319,\n",
       " 54.4997,\n",
       " 54.922,\n",
       " 55.1494,\n",
       " 54.5647,\n",
       " 55.4256,\n",
       " 54.6946,\n",
       " 57.115,\n",
       " 57.5211,\n",
       " 57.7485,\n",
       " 57.6673,\n",
       " 58.0572,\n",
       " 57.3262,\n",
       " 57.6023,\n",
       " 57.6836,\n",
       " 57.5374,\n",
       " 57.7323,\n",
       " 57.3749,\n",
       " 57.6836,\n",
       " 57.5699,\n",
       " 57.3099,\n",
       " 57.3262]"
      ]
     },
     "execution_count": 270,
     "metadata": {},
     "output_type": "execute_result"
    }
   ],
   "source": [
    "Top1"
   ]
  },
  {
   "cell_type": "code",
   "execution_count": 253,
   "metadata": {},
   "outputs": [],
   "source": [
    "Top11 = Top1\n",
    "Top51 = Top5\n",
    "Top101 = Top10"
   ]
  },
  {
   "cell_type": "code",
   "execution_count": 301,
   "metadata": {},
   "outputs": [],
   "source": [
    "file = './nohup_baseline_gru_clipvit_ls_bs64_stride12.out'\n",
    "file = './output/VIT/baseline_textvit_clipvit_ls_bs96_stride16_layer6_self/log.txt'\n",
    "file = './nohup_baseline_textvit_clipvit_bs96_stride16_test_4.out'\n",
    "file = 'nohup_baseline_textvit_clipvit_bs96_stride16_layer6.out'\n",
    "file = 'nohup_textvit_bs128_layer1.out'\n",
    "file = 'nohup_textvit_bs96_layer6_self.out'\n",
    "file = './output/VIT/share_layer6_bs96_mask_pretrain/log.txt'\n",
    "# file = './output/VIT/share_layer6_bs84/log.txt'\n",
    "\n",
    "# file = 'nohup_textvit_bs96_layer6_self_update.out'\n",
    "# file = './nohup_baseline_gru_vit_ls_bs128_real.out'\n",
    "# file = 'nohup_textvit_bs96_layer6_self_norm_first.out'\n",
    "# file = 'nohup_textvit_bs96_layer6_self_v2.out'\n",
    "# file = 'nohup_textvit_bs96_layer6_self_copy.out'\n",
    "# file = 'nohup_textvit_copy.out'\n",
    "with open(file) as f:\n",
    "    data = f.readlines()\n",
    "epoch = 0\n",
    "Top1 = []\n",
    "Top5 = []\n",
    "Top10 = []\n",
    "\n",
    "for i, line in enumerate(data):\n",
    "    if '|      1 |' in line:\n",
    "        value = line.split('|')[-3]\n",
    "        value = float(value.split('%')[0])\n",
    "        Top1.append(value)\n",
    "    if '|      5 |' in line:\n",
    "        value = line.split('|')[-3]\n",
    "        value = float(value.split('%')[0])\n",
    "        Top5.append(value)\n",
    "    if '|     10 |' in line:\n",
    "        value = line.split('|')[-3]\n",
    "        value = float(value.split('%')[0])\n",
    "        Top10.append(value)\n",
    "        epoch += 1"
   ]
  },
  {
   "cell_type": "code",
   "execution_count": 302,
   "metadata": {},
   "outputs": [
    {
     "data": {
      "text/plain": [
       "[0.211176,\n",
       " 0.536062,\n",
       " 2.16049,\n",
       " 8.12216,\n",
       " 13.5153,\n",
       " 15.757,\n",
       " 18.8921,\n",
       " 24.1878,\n",
       " 26.3808,\n",
       " 29.7596,\n",
       " 31.5952,\n",
       " 33.4146,\n",
       " 34.4217,\n",
       " 37.0208,\n",
       " 37.5731,\n",
       " 39.0188,\n",
       " 38.9539,\n",
       " 40.1072,\n",
       " 40.7407,\n",
       " 41.488,\n",
       " 41.8291,\n",
       " 43.1287,\n",
       " 43.8272,\n",
       " 43.7459,\n",
       " 43.7947,\n",
       " 43.3723,\n",
       " 44.8993,\n",
       " 44.0383,\n",
       " 45.2729,\n",
       " 45.4353,\n",
       " 45.4516,\n",
       " 44.5582,\n",
       " 43.9246,\n",
       " 45.7765,\n",
       " 44.7693,\n",
       " 47.4172,\n",
       " 47.8882,\n",
       " 47.9045,\n",
       " 48.0669,\n",
       " 48.3593,\n",
       " 48.5543,\n",
       " 48.8142,\n",
       " 48.6355,\n",
       " 48.2131]"
      ]
     },
     "execution_count": 302,
     "metadata": {},
     "output_type": "execute_result"
    }
   ],
   "source": [
    "Top1"
   ]
  },
  {
   "cell_type": "code",
   "execution_count": 303,
   "metadata": {},
   "outputs": [
    {
     "data": {
      "image/png": "[encoded data removed]",
      "text/plain": [
       "<Figure size 432x288 with 1 Axes>"
      ]
     },
     "metadata": {
      "needs_background": "light"
     },
     "output_type": "display_data"
    },
    {
     "name": "stdout",
     "output_type": "stream",
     "text": [
      "top1\n"
     ]
    }
   ],
   "source": [
    "x = [i for i in range(len(Top1))]\n",
    "# new\n",
    "plt.grid(linestyle='-.')\n",
    "plt.plot(x, Top1, 'r')\n",
    "# baseline\n",
    "plt.plot(x, Top11[:len(Top1)], 'b')\n",
    "plt.show()\n",
    "print('top1')\n",
    "# plt.grid(linestyle='-.')\n",
    "# plt.plot(x, Top1, 'r')\n",
    "# # plt.plot(x, Top11[:len(mAP)], 'b')\n",
    "# plt.show()"
   ]
  },
  {
   "cell_type": "code",
   "execution_count": 226,
   "metadata": {},
   "outputs": [
    {
     "data": {
      "text/plain": [
       "50.1949"
      ]
     },
     "execution_count": 226,
     "metadata": {},
     "output_type": "execute_result"
    }
   ],
   "source": [
    "Top11[15]"
   ]
  },
  {
   "cell_type": "code",
   "execution_count": 157,
   "metadata": {},
   "outputs": [
    {
     "data": {
      "text/plain": [
       "51.397"
      ]
     },
     "execution_count": 157,
     "metadata": {},
     "output_type": "execute_result"
    }
   ],
   "source": [
    "max(Top1)"
   ]
  },
  {
   "cell_type": "code",
   "execution_count": null,
   "metadata": {},
   "outputs": [],
   "source": []
  }
 ],
 "metadata": {
  "kernelspec": {
   "display_name": "Python 3",
   "language": "python",
   "name": "python3"
  },
  "language_info": {
   "codemirror_mode": {
    "name": "ipython",
    "version": 3
   },
   "file_extension": ".py",
   "mimetype": "text/x-python",
   "name": "python",
   "nbconvert_exporter": "python",
   "pygments_lexer": "ipython3",
   "version": "3.7.3"
  }
 },
 "nbformat": 4,
 "nbformat_minor": 5
}
