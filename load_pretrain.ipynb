{
 "cells": [
  {
   "cell_type": "code",
   "execution_count": 1,
   "metadata": {},
   "outputs": [],
   "source": [
    "import torch\n",
    "import numpy as np\n",
    "from lib.utils.directory import load_vocab_dict"
   ]
  },
  {
   "cell_type": "code",
   "execution_count": 2,
   "metadata": {},
   "outputs": [],
   "source": [
    "from lib.models.backbones.clip import visual_transformer_B32, visual_transformer_B16"
   ]
  },
  {
   "cell_type": "code",
   "execution_count": 4,
   "metadata": {},
   "outputs": [],
   "source": [
    "data = np.load(\"./datasets/cuhkpedes/clip_vocab_vit.npy\")"
   ]
  },
  {
   "cell_type": "code",
   "execution_count": 8,
   "metadata": {},
   "outputs": [
    {
     "data": {
      "text/plain": [
       "(9409, 512)"
      ]
     },
     "execution_count": 8,
     "metadata": {},
     "output_type": "execute_result"
    }
   ],
   "source": [
    "data.shape"
   ]
  },
  {
   "cell_type": "code",
   "execution_count": 18,
   "metadata": {},
   "outputs": [],
   "source": [
    "kwargs = {\n",
    "            \"embed_dim\": 3072,\n",
    "        }\n",
    "model = visual_transformer_B32(**kwargs)"
   ]
  },
  {
   "cell_type": "code",
   "execution_count": 19,
   "metadata": {},
   "outputs": [
    {
     "data": {
      "text/plain": [
       "<All keys matched successfully>"
      ]
     },
     "execution_count": 19,
     "metadata": {},
     "output_type": "execute_result"
    }
   ],
   "source": [
    "model.load_state_dict(checkpoint['state_dict'])"
   ]
  },
  {
   "cell_type": "code",
   "execution_count": 38,
   "metadata": {},
   "outputs": [
    {
     "name": "stdout",
     "output_type": "stream",
     "text": [
      "class_embedding\n",
      "positional_embedding\n",
      "proj\n",
      "conv1.weight\n",
      "ln_pre.weight\n",
      "ln_pre.bias\n",
      "transformer.resblocks.0.attn.in_proj_weight\n",
      "transformer.resblocks.0.attn.in_proj_bias\n",
      "transformer.resblocks.0.attn.out_proj.weight\n",
      "transformer.resblocks.0.attn.out_proj.bias\n",
      "transformer.resblocks.0.ln_1.weight\n",
      "transformer.resblocks.0.ln_1.bias\n",
      "transformer.resblocks.0.mlp.c_fc.weight\n",
      "transformer.resblocks.0.mlp.c_fc.bias\n",
      "transformer.resblocks.0.mlp.c_proj.weight\n",
      "transformer.resblocks.0.mlp.c_proj.bias\n",
      "transformer.resblocks.0.ln_2.weight\n",
      "transformer.resblocks.0.ln_2.bias\n",
      "transformer.resblocks.1.attn.in_proj_weight\n",
      "transformer.resblocks.1.attn.in_proj_bias\n",
      "transformer.resblocks.1.attn.out_proj.weight\n",
      "transformer.resblocks.1.attn.out_proj.bias\n",
      "transformer.resblocks.1.ln_1.weight\n",
      "transformer.resblocks.1.ln_1.bias\n",
      "transformer.resblocks.1.mlp.c_fc.weight\n",
      "transformer.resblocks.1.mlp.c_fc.bias\n",
      "transformer.resblocks.1.mlp.c_proj.weight\n",
      "transformer.resblocks.1.mlp.c_proj.bias\n",
      "transformer.resblocks.1.ln_2.weight\n",
      "transformer.resblocks.1.ln_2.bias\n",
      "transformer.resblocks.2.attn.in_proj_weight\n",
      "transformer.resblocks.2.attn.in_proj_bias\n",
      "transformer.resblocks.2.attn.out_proj.weight\n",
      "transformer.resblocks.2.attn.out_proj.bias\n",
      "transformer.resblocks.2.ln_1.weight\n",
      "transformer.resblocks.2.ln_1.bias\n",
      "transformer.resblocks.2.mlp.c_fc.weight\n",
      "transformer.resblocks.2.mlp.c_fc.bias\n",
      "transformer.resblocks.2.mlp.c_proj.weight\n",
      "transformer.resblocks.2.mlp.c_proj.bias\n",
      "transformer.resblocks.2.ln_2.weight\n",
      "transformer.resblocks.2.ln_2.bias\n",
      "transformer.resblocks.3.attn.in_proj_weight\n",
      "transformer.resblocks.3.attn.in_proj_bias\n",
      "transformer.resblocks.3.attn.out_proj.weight\n",
      "transformer.resblocks.3.attn.out_proj.bias\n",
      "transformer.resblocks.3.ln_1.weight\n",
      "transformer.resblocks.3.ln_1.bias\n",
      "transformer.resblocks.3.mlp.c_fc.weight\n",
      "transformer.resblocks.3.mlp.c_fc.bias\n",
      "transformer.resblocks.3.mlp.c_proj.weight\n",
      "transformer.resblocks.3.mlp.c_proj.bias\n",
      "transformer.resblocks.3.ln_2.weight\n",
      "transformer.resblocks.3.ln_2.bias\n",
      "transformer.resblocks.4.attn.in_proj_weight\n",
      "transformer.resblocks.4.attn.in_proj_bias\n",
      "transformer.resblocks.4.attn.out_proj.weight\n",
      "transformer.resblocks.4.attn.out_proj.bias\n",
      "transformer.resblocks.4.ln_1.weight\n",
      "transformer.resblocks.4.ln_1.bias\n",
      "transformer.resblocks.4.mlp.c_fc.weight\n",
      "transformer.resblocks.4.mlp.c_fc.bias\n",
      "transformer.resblocks.4.mlp.c_proj.weight\n",
      "transformer.resblocks.4.mlp.c_proj.bias\n",
      "transformer.resblocks.4.ln_2.weight\n",
      "transformer.resblocks.4.ln_2.bias\n",
      "transformer.resblocks.5.attn.in_proj_weight\n",
      "transformer.resblocks.5.attn.in_proj_bias\n",
      "transformer.resblocks.5.attn.out_proj.weight\n",
      "transformer.resblocks.5.attn.out_proj.bias\n",
      "transformer.resblocks.5.ln_1.weight\n",
      "transformer.resblocks.5.ln_1.bias\n",
      "transformer.resblocks.5.mlp.c_fc.weight\n",
      "transformer.resblocks.5.mlp.c_fc.bias\n",
      "transformer.resblocks.5.mlp.c_proj.weight\n",
      "transformer.resblocks.5.mlp.c_proj.bias\n",
      "transformer.resblocks.5.ln_2.weight\n",
      "transformer.resblocks.5.ln_2.bias\n",
      "transformer.resblocks.6.attn.in_proj_weight\n",
      "transformer.resblocks.6.attn.in_proj_bias\n",
      "transformer.resblocks.6.attn.out_proj.weight\n",
      "transformer.resblocks.6.attn.out_proj.bias\n",
      "transformer.resblocks.6.ln_1.weight\n",
      "transformer.resblocks.6.ln_1.bias\n",
      "transformer.resblocks.6.mlp.c_fc.weight\n",
      "transformer.resblocks.6.mlp.c_fc.bias\n",
      "transformer.resblocks.6.mlp.c_proj.weight\n",
      "transformer.resblocks.6.mlp.c_proj.bias\n",
      "transformer.resblocks.6.ln_2.weight\n",
      "transformer.resblocks.6.ln_2.bias\n",
      "transformer.resblocks.7.attn.in_proj_weight\n",
      "transformer.resblocks.7.attn.in_proj_bias\n",
      "transformer.resblocks.7.attn.out_proj.weight\n",
      "transformer.resblocks.7.attn.out_proj.bias\n",
      "transformer.resblocks.7.ln_1.weight\n",
      "transformer.resblocks.7.ln_1.bias\n",
      "transformer.resblocks.7.mlp.c_fc.weight\n",
      "transformer.resblocks.7.mlp.c_fc.bias\n",
      "transformer.resblocks.7.mlp.c_proj.weight\n",
      "transformer.resblocks.7.mlp.c_proj.bias\n",
      "transformer.resblocks.7.ln_2.weight\n",
      "transformer.resblocks.7.ln_2.bias\n",
      "transformer.resblocks.8.attn.in_proj_weight\n",
      "transformer.resblocks.8.attn.in_proj_bias\n",
      "transformer.resblocks.8.attn.out_proj.weight\n",
      "transformer.resblocks.8.attn.out_proj.bias\n",
      "transformer.resblocks.8.ln_1.weight\n",
      "transformer.resblocks.8.ln_1.bias\n",
      "transformer.resblocks.8.mlp.c_fc.weight\n",
      "transformer.resblocks.8.mlp.c_fc.bias\n",
      "transformer.resblocks.8.mlp.c_proj.weight\n",
      "transformer.resblocks.8.mlp.c_proj.bias\n",
      "transformer.resblocks.8.ln_2.weight\n",
      "transformer.resblocks.8.ln_2.bias\n",
      "transformer.resblocks.9.attn.in_proj_weight\n",
      "transformer.resblocks.9.attn.in_proj_bias\n",
      "transformer.resblocks.9.attn.out_proj.weight\n",
      "transformer.resblocks.9.attn.out_proj.bias\n",
      "transformer.resblocks.9.ln_1.weight\n",
      "transformer.resblocks.9.ln_1.bias\n",
      "transformer.resblocks.9.mlp.c_fc.weight\n",
      "transformer.resblocks.9.mlp.c_fc.bias\n",
      "transformer.resblocks.9.mlp.c_proj.weight\n",
      "transformer.resblocks.9.mlp.c_proj.bias\n",
      "transformer.resblocks.9.ln_2.weight\n",
      "transformer.resblocks.9.ln_2.bias\n",
      "transformer.resblocks.10.attn.in_proj_weight\n",
      "transformer.resblocks.10.attn.in_proj_bias\n",
      "transformer.resblocks.10.attn.out_proj.weight\n",
      "transformer.resblocks.10.attn.out_proj.bias\n",
      "transformer.resblocks.10.ln_1.weight\n",
      "transformer.resblocks.10.ln_1.bias\n",
      "transformer.resblocks.10.mlp.c_fc.weight\n",
      "transformer.resblocks.10.mlp.c_fc.bias\n",
      "transformer.resblocks.10.mlp.c_proj.weight\n",
      "transformer.resblocks.10.mlp.c_proj.bias\n",
      "transformer.resblocks.10.ln_2.weight\n",
      "transformer.resblocks.10.ln_2.bias\n",
      "transformer.resblocks.11.attn.in_proj_weight\n",
      "transformer.resblocks.11.attn.in_proj_bias\n",
      "transformer.resblocks.11.attn.out_proj.weight\n",
      "transformer.resblocks.11.attn.out_proj.bias\n",
      "transformer.resblocks.11.ln_1.weight\n",
      "transformer.resblocks.11.ln_1.bias\n",
      "transformer.resblocks.11.mlp.c_fc.weight\n",
      "transformer.resblocks.11.mlp.c_fc.bias\n",
      "transformer.resblocks.11.mlp.c_proj.weight\n",
      "transformer.resblocks.11.mlp.c_proj.bias\n",
      "transformer.resblocks.11.ln_2.weight\n",
      "transformer.resblocks.11.ln_2.bias\n",
      "ln_post.weight\n",
      "ln_post.bias\n"
     ]
    }
   ],
   "source": [
    "checkpoint = torch.load('./pretrained/clip/declip_vitb32_convert.pth.tar')\n",
    "for keys in checkpoint['state_dict']:\n",
    "    print(keys)"
   ]
  },
  {
   "cell_type": "code",
   "execution_count": 8,
   "metadata": {},
   "outputs": [],
   "source": [
    "# checkpoint = torch.load('./pretrained/clip/declip_vitb32_convert.pth.tar')\n",
    "checkpoint = torch.load('./pretrained/clip/ViT-B-32.pt')"
   ]
  },
  {
   "cell_type": "code",
   "execution_count": 9,
   "metadata": {},
   "outputs": [],
   "source": [
    "new_state_dict = {}\n",
    "for keys in checkpoint.state_dict().keys():\n",
    "    if 'visual' in keys:\n",
    "        k = keys[7:]\n",
    "        new_state_dict[k] = checkpoint.state_dict()[keys]\n",
    "#         new_state_dict"
   ]
  },
  {
   "cell_type": "code",
   "execution_count": 11,
   "metadata": {},
   "outputs": [
    {
     "data": {
      "text/plain": [
       "<All keys matched successfully>"
      ]
     },
     "execution_count": 11,
     "metadata": {},
     "output_type": "execute_result"
    }
   ],
   "source": [
    "kwargs = {\n",
    "            \"embed_dim\": 512,\n",
    "        }\n",
    "model = visual_transformer_B32(**kwargs)\n",
    "model.load_state_dict(new_state_dict)"
   ]
  },
  {
   "cell_type": "code",
   "execution_count": 12,
   "metadata": {},
   "outputs": [],
   "source": [
    "torch.save(model.state_dict(), './pretrained/clip/ViT-B-32_visual.pt')"
   ]
  },
  {
   "cell_type": "code",
   "execution_count": null,
   "metadata": {},
   "outputs": [],
   "source": []
  }
 ],
 "metadata": {
  "kernelspec": {
   "display_name": "txtreid",
   "language": "python",
   "name": "txtreid"
  },
  "language_info": {
   "codemirror_mode": {
    "name": "ipython",
    "version": 3
   },
   "file_extension": ".py",
   "mimetype": "text/x-python",
   "name": "python",
   "nbconvert_exporter": "python",
   "pygments_lexer": "ipython3",
   "version": "3.7.12"
  }
 },
 "nbformat": 4,
 "nbformat_minor": 2
}
