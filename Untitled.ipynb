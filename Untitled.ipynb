{
 "cells": [
  {
   "cell_type": "code",
   "execution_count": 1,
   "metadata": {},
   "outputs": [],
   "source": [
    "def rank(similarity, q_pids, g_pids, topk=[1, 5, 10], get_mAP=True):\n",
    "    max_rank = max(topk)\n",
    "    if get_mAP:\n",
    "        indices = torch.argsort(similarity, dim=1, descending=True)\n",
    "    else:\n",
    "        # acclerate sort with topk\n",
    "        _, indices = torch.topk(\n",
    "            similarity, k=max_rank, dim=1, largest=True, sorted=True\n",
    "        )  # q * topk\n",
    "    pred_labels = g_pids[indices]  # q * k\n",
    "    matches = pred_labels.eq(q_pids.view(-1, 1))  # q * k\n",
    "\n",
    "    all_cmc = matches[:, :max_rank].cumsum(1)\n",
    "    all_cmc[all_cmc > 1] = 1\n",
    "    all_cmc = all_cmc.float().mean(0) * 100\n",
    "    all_cmc = all_cmc[topk - 1]\n",
    "\n",
    "    if not get_mAP:\n",
    "        return all_cmc, indices\n",
    "\n",
    "    num_rel = matches.sum(1)  # q\n",
    "    tmp_cmc = matches.cumsum(1)  # q * k\n",
    "    tmp_cmc = [tmp_cmc[:, i] / (i + 1.0) for i in range(tmp_cmc.shape[1])]\n",
    "    tmp_cmc = torch.stack(tmp_cmc, 1) * matches\n",
    "    AP = tmp_cmc.sum(1) / num_rel  # q\n",
    "    mAP = AP.mean() * 100\n",
    "    return all_cmc, mAP, indices"
   ]
  },
  {
   "cell_type": "code",
   "execution_count": 9,
   "metadata": {},
   "outputs": [],
   "source": [
    "import pickle as pkl\n",
    "import numpy as np\n",
    "import torch\n",
    "topk = torch.tensor([1,5,10])"
   ]
  },
  {
   "cell_type": "code",
   "execution_count": 5,
   "metadata": {},
   "outputs": [],
   "source": [
    "similarity = np.load(\"similarity.npy\")\n",
    "similarity_fine = np.load(\"similarity_fine.npy\")\n",
    "text_pid = np.load(\"text_pid.npy\")\n",
    "image_pid = np.load(\"image_pid.npy\")"
   ]
  },
  {
   "cell_type": "code",
   "execution_count": 7,
   "metadata": {},
   "outputs": [],
   "source": [
    "final_similarity = similarity + similarity_fine"
   ]
  },
  {
   "cell_type": "code",
   "execution_count": 10,
   "metadata": {},
   "outputs": [
    {
     "name": "stdout",
     "output_type": "stream",
     "text": [
      "tensor([56.0429, 75.6823, 83.6907])\n"
     ]
    }
   ],
   "source": [
    "t2i_cmc, _ = rank(torch.tensor(final_similarity), torch.tensor(text_pid), torch.tensor(image_pid), topk, get_mAP=False)\n",
    "print(t2i_cmc)"
   ]
  },
  {
   "cell_type": "code",
   "execution_count": 15,
   "metadata": {},
   "outputs": [
    {
     "data": {
      "text/plain": [
       "[0.0,\n",
       " 0.1,\n",
       " 0.2,\n",
       " 0.3,\n",
       " 0.4,\n",
       " 0.5,\n",
       " 0.6,\n",
       " 0.7,\n",
       " 0.8,\n",
       " 0.9,\n",
       " 1.0,\n",
       " 1.1,\n",
       " 1.2,\n",
       " 1.3,\n",
       " 1.4,\n",
       " 1.5,\n",
       " 1.6,\n",
       " 1.7,\n",
       " 1.8,\n",
       " 1.9]"
      ]
     },
     "execution_count": 15,
     "metadata": {},
     "output_type": "execute_result"
    }
   ],
   "source": [
    "weights = [i/10 for i in range(20)]\n",
    "weights"
   ]
  },
  {
   "cell_type": "code",
   "execution_count": 17,
   "metadata": {},
   "outputs": [
    {
     "name": "stdout",
     "output_type": "stream",
     "text": [
      "0.0\n",
      "tensor([55.6855, 75.4873, 83.0897])\n",
      "0.1\n",
      "tensor([55.9292, 75.6010, 83.2196])\n",
      "0.2\n",
      "tensor([55.9129, 75.6335, 83.3333])\n",
      "0.3\n",
      "tensor([56.0104, 75.7148, 83.4958])\n",
      "0.4\n",
      "tensor([55.9942, 75.7797, 83.5608])\n",
      "0.5\n",
      "tensor([55.9617, 75.7148, 83.5445])\n",
      "0.6\n",
      "tensor([56.0754, 75.7148, 83.5283])\n",
      "0.7\n",
      "tensor([56.1728, 75.7797, 83.6582])\n",
      "0.8\n",
      "tensor([56.0754, 75.7310, 83.7557])\n",
      "0.9\n",
      "tensor([56.0104, 75.7148, 83.7557])\n",
      "1.0\n",
      "tensor([56.0429, 75.6823, 83.6907])\n",
      "1.1\n",
      "tensor([55.9779, 75.6985, 83.6907])\n",
      "1.2\n",
      "tensor([55.9292, 75.7472, 83.6907])\n",
      "1.3\n",
      "tensor([55.9129, 75.7797, 83.7394])\n",
      "1.4\n",
      "tensor([55.8155, 75.7310, 83.7394])\n",
      "1.5\n",
      "tensor([55.8155, 75.7310, 83.8207])\n",
      "1.6\n",
      "tensor([55.7992, 75.7472, 83.8369])\n",
      "1.7\n",
      "tensor([55.7505, 75.7472, 83.7232])\n",
      "1.8\n",
      "tensor([55.7180, 75.7472, 83.6907])\n",
      "1.9\n",
      "tensor([55.7667, 75.7148, 83.6745])\n"
     ]
    }
   ],
   "source": [
    "for weight in weights:\n",
    "    print(weight)\n",
    "    final_similarity = similarity + weight * similarity_fine\n",
    "    t2i_cmc, _ = rank(torch.tensor(final_similarity), torch.tensor(text_pid), torch.tensor(image_pid), topk, get_mAP=False)\n",
    "    print(t2i_cmc)"
   ]
  },
  {
   "cell_type": "code",
   "execution_count": 18,
   "metadata": {},
   "outputs": [
    {
     "name": "stdout",
     "output_type": "stream",
     "text": [
      "tensor([54.0936, 74.9513, 83.1222])\n"
     ]
    }
   ],
   "source": [
    "t2i_cmc, _ = rank(torch.tensor(similarity_fine), torch.tensor(text_pid), torch.tensor(image_pid), topk, get_mAP=False)\n",
    "print(t2i_cmc)"
   ]
  }
 ],
 "metadata": {
  "kernelspec": {
   "display_name": "txtreid",
   "language": "python",
   "name": "txtreid"
  },
  "language_info": {
   "codemirror_mode": {
    "name": "ipython",
    "version": 3
   },
   "file_extension": ".py",
   "mimetype": "text/x-python",
   "name": "python",
   "nbconvert_exporter": "python",
   "pygments_lexer": "ipython3",
   "version": "3.7.11"
  }
 },
 "nbformat": 4,
 "nbformat_minor": 2
}
